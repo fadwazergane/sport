{
  "cells": [
    {
      "cell_type": "code",
      "source": [],
      "metadata": {
        "colab": {
          "base_uri": "https://localhost:8080/",
          "height": 110
        },
        "id": "_ELmcxRBDZQU",
        "outputId": "dbafa3d4-f5b0-4084-9cb4-9bee54c8a9f7"
      },
      "execution_count": null,
      "outputs": [
        {
          "output_type": "error",
          "ename": "SyntaxError",
          "evalue": "invalid syntax (ipython-input-2-3554147917.py, line 1)",
          "traceback": [
            "\u001b[0;36m  File \u001b[0;32m\"/tmp/ipython-input-2-3554147917.py\"\u001b[0;36m, line \u001b[0;32m1\u001b[0m\n\u001b[0;31m    sudo apt update\u001b[0m\n\u001b[0m         ^\u001b[0m\n\u001b[0;31mSyntaxError\u001b[0m\u001b[0;31m:\u001b[0m invalid syntax\n"
          ]
        }
      ]
    },
    {
      "cell_type": "code",
      "source": [],
      "metadata": {
        "colab": {
          "base_uri": "https://localhost:8080/",
          "height": 290
        },
        "id": "AbK39lZUGCfz",
        "outputId": "aa049d77-5ce7-4d0d-c659-d98fc922736c"
      },
      "execution_count": null,
      "outputs": [
        {
          "output_type": "stream",
          "name": "stdout",
          "text": [
            "Requirement already satisfied: colab_ssh in /usr/local/lib/python3.11/dist-packages (0.3.27)\n"
          ]
        },
        {
          "output_type": "display_data",
          "data": {
            "text/plain": [
              "<IPython.core.display.HTML object>"
            ],
            "text/html": [
              "<style>\n",
              "*{\n",
              "\toutline:none;\n",
              "}\n",
              "code{\n",
              "\tdisplay:inline-block;\n",
              "\tpadding:5px 10px;\n",
              "\tbackground: #444;\n",
              "\tborder-radius: 4px;\n",
              "\twhite-space: pre-wrap;\n",
              "\tposition:relative;\n",
              "\tcolor:white;\n",
              "}\n",
              ".copy-code-button{\n",
              "\tfloat:right;\n",
              "\tbackground:#333;\n",
              "\tcolor:white;\n",
              "\tborder: none;\n",
              "\tmargin: 0 0 0 10px;\n",
              "\tcursor: pointer;\n",
              "}\n",
              "p, li{\n",
              "\tmax-width:700px;\n",
              "}\n",
              ".choices{\n",
              "\tdisplay:flex;\n",
              "\tflex: 1 0 auto;\n",
              "}\n",
              ".choice-section{\n",
              "\tborder:solid 1px #555;\n",
              "\tborder-radius: 4px;\n",
              "\tmin-width:300px;\n",
              "\tmargin: 10px 15px 0 0;\n",
              "\tpadding: 0 15px 15px 15px ;\n",
              "}\n",
              ".button{\n",
              "\tpadding: 10px 15px;\n",
              "\tbackground:#333;\n",
              "\tborder-radius: 4px;\n",
              "\tborder:solid 1px #555;\n",
              "\tcolor:white;\n",
              "\tfont-weight:bold;\n",
              "\tcursor:pointer;\n",
              "}\n",
              ".pill{\n",
              "\tpadding:2px 4px;\n",
              "\tborder-radius: 100px;\n",
              "\tbackground-color:#e65858;\n",
              "\tfont-size:12px;\n",
              "\tfont-weight:bold;\n",
              "\tmargin: 0 15px;\n",
              "\tcolor:white;\n",
              "}\n",
              "</style>\n",
              "<details class=\"choice-section\">\n",
              "\t<summary style=\"cursor:pointer\">\n",
              "\t\t<h3 style=\"display:inline-block;margin-top:15px\">⚙️ Client machine configuration<span class=\"pill\">Required</span></h3>\n",
              "\t</summary>\n",
              "\t<p>Don't worry, you only have to do this <b>once per client machine</b>.</p>\n",
              "\t<ol>\n",
              "\t\t<li>Download <a href=\"https://developers.cloudflare.com/argo-tunnel/getting-started/installation\">Cloudflared (Argo Tunnel)</a>, then copy the absolute path of the cloudflare binary</li>\n",
              "\t\t<li>Now, you have to append the following to your SSH config file (usually under ~/.ssh/config), and make sure you replace the placeholder with the path you copied in Step 1:</li>\n",
              "\t</ol>\n",
              "\t<code>Host *.trycloudflare.com\n",
              "\tHostName %h\n",
              "\tUser root\n",
              "\tPort 22\n",
              "\tProxyCommand &ltPUT_THE_ABSOLUTE_CLOUDFLARE_PATH_HERE&gt access ssh --hostname %h\n",
              "\t</code>\n",
              "</details>\n",
              "<div class=\"choices\">\n",
              "\t<div class=\"choice-section\">\n",
              "\t\t<h4>SSH Terminal</h4>\n",
              "\t\t<p>To connect using your terminal, type this command:</p>\n",
              "\t\t<code>ssh closest-porter-investigated-praise.trycloudflare.com</code>\n",
              "\t</div>\n",
              "\t<div class=\"choice-section\">\n",
              "\t\t<h4>VSCode Remote SSH</h4>\n",
              "\t\t<p>You can also connect with VSCode Remote SSH (Ctrl+Shift+P and type \"Connect to Host...\"). Then, paste the following hostname in the opened command palette:</p>\n",
              "\t\t<code>closest-porter-investigated-praise.trycloudflare.com</code>\n",
              "\t</div>\n",
              "</div>\n",
              "\n",
              "<script>\n",
              "// Copy any string\n",
              "function fallbackCopyTextToClipboard(text) {\n",
              "  var textArea = document.createElement(\"textarea\");\n",
              "  textArea.value = text;\n",
              "  \n",
              "  // Avoid scrolling to bottom\n",
              "  textArea.style.top = \"0\";\n",
              "  textArea.style.left = \"0\";\n",
              "  textArea.style.position = \"fixed\";\n",
              "\n",
              "  document.body.appendChild(textArea);\n",
              "  textArea.focus();\n",
              "  textArea.select();\n",
              "\n",
              "  try {\n",
              "    var successful = document.execCommand('copy');\n",
              "    var msg = successful ? 'successful' : 'unsuccessful';\n",
              "    console.log('Fallback: Copying text command was ' + msg);\n",
              "  } catch (err) {\n",
              "    console.error('Fallback: Oops, unable to copy', err);\n",
              "  }\n",
              "\n",
              "  document.body.removeChild(textArea);\n",
              "}\n",
              "\n",
              "// Show the copy button with every code tag\n",
              "document.querySelectorAll('code').forEach(function (codeBlock) {\n",
              "\tconst codeToCopy= codeBlock.innerText;\n",
              "\tvar pre = document.createElement('pre');\n",
              "\tpre.innerText = codeToCopy;\n",
              "    var button = document.createElement('button');\n",
              "    button.className = 'copy-code-button';\n",
              "    button.type = 'button';\n",
              "    button.innerText = 'Copy';\n",
              "\tbutton.onclick = function(){\n",
              "\t\tfallbackCopyTextToClipboard(codeToCopy);\n",
              "\t\tbutton.innerText = 'Copied'\n",
              "\t\tsetTimeout(()=>{\n",
              "\t\t\tbutton.innerText = 'Copy'\n",
              "\t\t},2000)\n",
              "\t}\n",
              "\tcodeBlock.children = pre;\n",
              "\tcodeBlock.prepend(button)\n",
              "});\n",
              "</script>\n"
            ]
          },
          "metadata": {}
        }
      ]
    },
    {
      "cell_type": "code",
      "execution_count": null,
      "metadata": {
        "colab": {
          "base_uri": "https://localhost:8080/"
        },
        "id": "Ej8gjuIFVmus",
        "outputId": "d5c6e2ee-4573-4768-9686-edf80cd35243"
      },
      "outputs": [
        {
          "output_type": "stream",
          "name": "stdout",
          "text": [
            "Collecting git+https://github.com/tensorflow/examples.git\n",
            "  Cloning https://github.com/tensorflow/examples.git to /tmp/pip-req-build-rh6yd84c\n",
            "  Running command git clone --filter=blob:none --quiet https://github.com/tensorflow/examples.git /tmp/pip-req-build-rh6yd84c\n",
            "  Resolved https://github.com/tensorflow/examples.git to commit 3c7435733a9162481df350e57c53e58d2a705e4d\n",
            "  Preparing metadata (setup.py) ... \u001b[?25l\u001b[?25hdone\n",
            "Requirement already satisfied: absl-py in /usr/local/lib/python3.11/dist-packages (from tensorflow-examples==0.1746868094.345130988853936603129253091149118257392589495885) (1.4.0)\n",
            "Requirement already satisfied: six in /usr/local/lib/python3.11/dist-packages (from tensorflow-examples==0.1746868094.345130988853936603129253091149118257392589495885) (1.17.0)\n",
            "Building wheels for collected packages: tensorflow-examples\n",
            "  Building wheel for tensorflow-examples (setup.py) ... \u001b[?25l\u001b[?25hdone\n",
            "  Created wheel for tensorflow-examples: filename=tensorflow_examples-0.1746868094.345130988853936603129253091149118257392589495885-py3-none-any.whl size=301646 sha256=e50e4b97622a349e82b4069600cb3ed59f0ecc8cf482326aa2dd0dc745d99a33\n",
            "  Stored in directory: /tmp/pip-ephem-wheel-cache-zapjnt94/wheels/91/9b/e8/6ae2ecc930bd726c578e35b313e987a687bc5ce03c3a42c2d5\n",
            "Successfully built tensorflow-examples\n",
            "Installing collected packages: tensorflow-examples\n",
            "Successfully installed tensorflow-examples-0.1746868094.345130988853936603129253091149118257392589495885\n"
          ]
        }
      ],
      "source": [
        " #inxtallation de bibliotheque\n",
        "!pip install git+https://github.com/tensorflow/examples.git\n",
        "#bibliothèque principale de deep learning.\n",
        "import tensorflow as tf # pour entrainer modek\n",
        "#facilite le chargement de jeux de données comme COCO.\n",
        "\n",
        "import tensorflow_datasets as tfds #chager le dataset automatiqument\n",
        "#mportation d’un modèle utile pour la vision par ordinateur.\n",
        "from tensorflow_examples.models.pix2pix import pix2pix\n",
        "\n",
        "import os\n",
        "import time\n",
        "\n",
        "import matplotlib.pyplot as plt #afficher les images\n",
        "from IPython.display import clear_output#nettoie l'affichage dans Colab entre les époques.\n",
        "#Optimise automatiquement le chargement des données pour être rapide.\n",
        "AUTOTUNE = tf.data.AUTOTUNE"
      ]
    },
    {
      "cell_type": "code",
      "source": [],
      "metadata": {
        "colab": {
          "base_uri": "https://localhost:8080/"
        },
        "id": "pEwKr5-QDVmk",
        "outputId": "9b0d8510-611b-4fd3-a77f-4e0445c15793"
      },
      "execution_count": null,
      "outputs": [
        {
          "output_type": "stream",
          "name": "stdout",
          "text": [
            "\u001b[33m\r0% [Working]\u001b[0m\r            \rHit:1 https://developer.download.nvidia.com/compute/cuda/repos/ubuntu2204/x86_64  InRelease\n",
            "\u001b[33m\r0% [Waiting for headers] [Connecting to security.ubuntu.com (185.125.190.83)] [\u001b[0m\r                                                                               \rGet:2 https://cloud.r-project.org/bin/linux/ubuntu jammy-cran40/ InRelease [3,632 B]\n",
            "Get:3 https://r2u.stat.illinois.edu/ubuntu jammy InRelease [6,555 B]\n",
            "Get:4 http://security.ubuntu.com/ubuntu jammy-security InRelease [129 kB]\n",
            "Hit:5 https://ppa.launchpadcontent.net/deadsnakes/ppa/ubuntu jammy InRelease\n",
            "Get:6 https://r2u.stat.illinois.edu/ubuntu jammy/main all Packages [9,059 kB]\n",
            "Hit:7 https://ppa.launchpadcontent.net/graphics-drivers/ppa/ubuntu jammy InRelease\n",
            "Hit:8 http://archive.ubuntu.com/ubuntu jammy InRelease\n",
            "Get:9 http://archive.ubuntu.com/ubuntu jammy-updates InRelease [128 kB]\n",
            "Hit:10 https://ppa.launchpadcontent.net/ubuntugis/ppa/ubuntu jammy InRelease\n",
            "Get:11 http://archive.ubuntu.com/ubuntu jammy-backports InRelease [127 kB]\n",
            "Get:12 http://security.ubuntu.com/ubuntu jammy-security/main amd64 Packages [3,036 kB]\n",
            "Get:13 https://r2u.stat.illinois.edu/ubuntu jammy/main amd64 Packages [2,750 kB]\n",
            "Get:14 http://security.ubuntu.com/ubuntu jammy-security/restricted amd64 Packages [4,572 kB]\n",
            "Get:15 http://archive.ubuntu.com/ubuntu jammy-updates/universe amd64 Packages [1,561 kB]\n",
            "Get:16 http://archive.ubuntu.com/ubuntu jammy-updates/main amd64 Packages [3,349 kB]\n",
            "Get:17 http://archive.ubuntu.com/ubuntu jammy-updates/restricted amd64 Packages [4,733 kB]\n",
            "Fetched 29.5 MB in 7s (4,191 kB/s)\n",
            "Reading package lists... Done\n",
            "Building dependency tree... Done\n",
            "Reading state information... Done\n",
            "35 packages can be upgraded. Run 'apt list --upgradable' to see them.\n",
            "\u001b[1;33mW: \u001b[0mSkipping acquire of configured file 'main/source/Sources' as repository 'https://r2u.stat.illinois.edu/ubuntu jammy InRelease' does not seem to provide it (sources.list entry misspelt?)\u001b[0m\n",
            "Reading package lists... Done\n",
            "Building dependency tree... Done\n",
            "Reading state information... Done\n",
            "The following additional packages will be installed:\n",
            "  ncurses-term openssh-sftp-server ssh-import-id\n",
            "Suggested packages:\n",
            "  molly-guard monkeysphere ssh-askpass ufw\n",
            "The following NEW packages will be installed:\n",
            "  ncurses-term openssh-server openssh-sftp-server ssh-import-id\n",
            "0 upgraded, 4 newly installed, 0 to remove and 35 not upgraded.\n",
            "Need to get 751 kB of archives.\n",
            "After this operation, 6,050 kB of additional disk space will be used.\n",
            "Get:1 http://archive.ubuntu.com/ubuntu jammy-updates/main amd64 openssh-sftp-server amd64 1:8.9p1-3ubuntu0.13 [38.7 kB]\n",
            "Get:2 http://archive.ubuntu.com/ubuntu jammy-updates/main amd64 openssh-server amd64 1:8.9p1-3ubuntu0.13 [435 kB]\n",
            "Get:3 http://archive.ubuntu.com/ubuntu jammy-updates/main amd64 ncurses-term all 6.3-2ubuntu0.1 [267 kB]\n",
            "Get:4 http://archive.ubuntu.com/ubuntu jammy/main amd64 ssh-import-id all 5.11-0ubuntu1 [10.1 kB]\n",
            "Fetched 751 kB in 1s (647 kB/s)\n",
            "debconf: unable to initialize frontend: Dialog\n",
            "debconf: (No usable dialog-like program is installed, so the dialog based frontend cannot be used. at /usr/share/perl5/Debconf/FrontEnd/Dialog.pm line 78, <> line 4.)\n",
            "debconf: falling back to frontend: Readline\n",
            "debconf: unable to initialize frontend: Readline\n",
            "debconf: (This frontend requires a controlling tty.)\n",
            "debconf: falling back to frontend: Teletype\n",
            "dpkg-preconfigure: unable to re-open stdin: \n",
            "Selecting previously unselected package openssh-sftp-server.\n",
            "(Reading database ... 126308 files and directories currently installed.)\n",
            "Preparing to unpack .../openssh-sftp-server_1%3a8.9p1-3ubuntu0.13_amd64.deb ...\n",
            "Unpacking openssh-sftp-server (1:8.9p1-3ubuntu0.13) ...\n",
            "Selecting previously unselected package openssh-server.\n",
            "Preparing to unpack .../openssh-server_1%3a8.9p1-3ubuntu0.13_amd64.deb ...\n",
            "Unpacking openssh-server (1:8.9p1-3ubuntu0.13) ...\n",
            "Selecting previously unselected package ncurses-term.\n",
            "Preparing to unpack .../ncurses-term_6.3-2ubuntu0.1_all.deb ...\n",
            "Unpacking ncurses-term (6.3-2ubuntu0.1) ...\n",
            "Selecting previously unselected package ssh-import-id.\n",
            "Preparing to unpack .../ssh-import-id_5.11-0ubuntu1_all.deb ...\n",
            "Unpacking ssh-import-id (5.11-0ubuntu1) ...\n",
            "Setting up openssh-sftp-server (1:8.9p1-3ubuntu0.13) ...\n",
            "Setting up openssh-server (1:8.9p1-3ubuntu0.13) ...\n",
            "debconf: unable to initialize frontend: Dialog\n",
            "debconf: (No usable dialog-like program is installed, so the dialog based frontend cannot be used. at /usr/share/perl5/Debconf/FrontEnd/Dialog.pm line 78.)\n",
            "debconf: falling back to frontend: Readline\n",
            "\n",
            "Creating config file /etc/ssh/sshd_config with new version\n",
            "Creating SSH2 RSA key; this may take some time ...\n",
            "3072 SHA256:w/qoHb4OTVtFuFOy6QSlHXY9PkMtbdlViyCd34eksC4 root@9780b734b605 (RSA)\n",
            "Creating SSH2 ECDSA key; this may take some time ...\n",
            "256 SHA256:3l2E26lCrp10Thlm28Nd5o/qvAlw4Y0FYoedOwlscxE root@9780b734b605 (ECDSA)\n",
            "Creating SSH2 ED25519 key; this may take some time ...\n",
            "256 SHA256:E5rwf5mVXlN3ykl2vEEutj68KPB796AXct4qFM391YM root@9780b734b605 (ED25519)\n",
            "invoke-rc.d: could not determine current runlevel\n",
            "invoke-rc.d: policy-rc.d denied execution of start.\n",
            "Created symlink /etc/systemd/system/sshd.service → /lib/systemd/system/ssh.service.\n",
            "Created symlink /etc/systemd/system/multi-user.target.wants/ssh.service → /lib/systemd/system/ssh.service.\n",
            "Setting up ssh-import-id (5.11-0ubuntu1) ...\n",
            "Setting up ncurses-term (6.3-2ubuntu0.1) ...\n",
            "Processing triggers for man-db (2.10.2-1) ...\n",
            "System has not been booted with systemd as init system (PID 1). Can't operate.\n",
            "Failed to connect to bus: Host is down\n"
          ]
        }
      ]
    },
    {
      "cell_type": "code",
      "source": [
        "\n"
      ],
      "metadata": {
        "colab": {
          "base_uri": "https://localhost:8080/"
        },
        "id": "1TOAVxuuDXw6",
        "outputId": "11f8472c-3106-4e30-e6b7-cd38fe433e08"
      },
      "execution_count": null,
      "outputs": [
        {
          "output_type": "stream",
          "name": "stdout",
          "text": [
            "Generating public/private rsa key pair.\n",
            "/root/.ssh/id_rsa already exists.\n",
            "Overwrite (y/n)? y\n",
            "Your identification has been saved in /root/.ssh/id_rsa\n",
            "Your public key has been saved in /root/.ssh/id_rsa.pub\n",
            "The key fingerprint is:\n",
            "SHA256:Vij++gb8d1pDfeg2d0aOJ85BU7mwMIhjo6DTD9rDSas colab-key\n",
            "The key's randomart image is:\n",
            "+---[RSA 4096]----+\n",
            "|                 |\n",
            "|        ...     .|\n",
            "|   .  .=...o . ..|\n",
            "|  o ..o.o.  o.oo.|\n",
            "| o + o. S   ..=.o|\n",
            "|  * = oo   . o * |\n",
            "| . * . o.   o B *|\n",
            "|  . .  .o ...= B.|\n",
            "| E    .o...o  o  |\n",
            "+----[SHA256]-----+\n"
          ]
        }
      ]
    },
    {
      "cell_type": "code",
      "source": [
        "\n"
      ],
      "metadata": {
        "colab": {
          "base_uri": "https://localhost:8080/"
        },
        "id": "VwfoMZMIL3nn",
        "outputId": "5a0e4b58-363c-4d87-938c-1cf5109f670e"
      },
      "execution_count": null,
      "outputs": [
        {
          "output_type": "stream",
          "name": "stdout",
          "text": [
            "ssh-rsa AAAAB3NzaC1yc2EAAAADAQABAAACAQC3+/uaffr9tb09SBgfOzd++EWCLrGJosN95Twu/2ICn/W3zsgnZMNnJTiCg1fUp6vRUEJa7TP9s469R+9rvLE7Lxzx27CzPcQSttzD4emJkrQik64qIRvEmhkmOxVeW2gzCnEAQMuITPYcuqlYf3qUrdLrQNkdipdLB6Ypg3iHZBWa3KTPI2QSf3BSxCZlRDr+DxgxHWTtylmBkllVu3daHw3QfdT9jdpYFbmVy5q3q/3t9fBsODcDLxMdU0aRSlpCefIqCNkI2lImpwO3d8eJqEQ6r3um8WadkH6r0u9b/NZruZLzfqA/13SggjhIxLvtOJkjtx79tfPUwF39arpR++cXUWMwJZGQSz00vDXeZLFziMHv9pBPZuKPQ4euljecmP0ycqcpudM2qyZdMNvRG+cgINlw3keJKyijL3/sl64NzrHM7z9LHmDVKiyW2XCYXGKr1Pmx/BK9GYk3g0Lz54ysNKVyhqmxmNjCDCgSKGHjTNpZmd74pjheQUJ8aUvrMnj7j5ff0E6c8fUMSuwchqyojuRMnjYpojOgEjNj5oAAtoydXEa7kCXIE9sOtQqxIsOsX8sUJkSQokRK8sKKnhhou2yoEECfkLjg+e3KfdQseq5u7kNCcFgaUEQI1kL8eLogdWjaJzkr/kM7x51VMeRZq8hZPCpccS8l0VtVow== colab-key\n"
          ]
        }
      ]
    },
    {
      "cell_type": "code",
      "source": [],
      "metadata": {
        "id": "kw5qUeDJMC7F"
      },
      "execution_count": null,
      "outputs": []
    },
    {
      "cell_type": "code",
      "source": [],
      "metadata": {
        "colab": {
          "base_uri": "https://localhost:8080/"
        },
        "id": "k-P2XSA5M2HI",
        "outputId": "382b9c0e-1fe5-42b0-e4ab-137737b2bff8"
      },
      "execution_count": null,
      "outputs": [
        {
          "output_type": "stream",
          "name": "stdout",
          "text": [
            "ssh: connect to host 93.129.42.13 port 22: Connection timed out\r\n"
          ]
        }
      ]
    },
    {
      "cell_type": "code",
      "source": [],
      "metadata": {
        "colab": {
          "base_uri": "https://localhost:8080/"
        },
        "id": "0edWc8GUNNks",
        "outputId": "3dc3eda0-7d13-42bc-c73b-b0d5ff42325e"
      },
      "execution_count": null,
      "outputs": [
        {
          "output_type": "stream",
          "name": "stdout",
          "text": [
            "ssh-rsa AAAAB3NzaC1yc2EAAAADAQABAAACAQCnWJBo5oSDikG3l3fL9cDNQGezJYluSrSjzg+dZzPZIqtNEdnNU3Yx+s6wjti70EoM1qOCfViXQtMDucM97THtrMQmII7eONq59OxfAJ8lgs0u6zF0xFLA0tFdwJpESMrOAlGeVoR23q8ep0oBrcYPgy4aZlRWk0OHEUv/0ObQ3yU5Q01/lJMH7EmAoFEgBEUxiAsqbndscWqzIdGeb5gQbXFUWsbNy/9eTjQxBEWnFvkBMV+FltwieRuF3lJz8aaqDDaDKADAg5KXvtH5YKwoiikgtL1dY2drjw/UaoWcHmTMKCjhicU3TVM5/o5Ba29GJLrefNX4RuWo3EopYjdP72ftU76VJtgFYLb7XslD+hmXWdostPfknLVPEGvCwNUu78k7iQocxKnlu9ko5C20am1qGfHcBFX0xe4qwdhx/yNa/7j6YDV+1LyF/mGRxbuZ6SisLYXhvVdAUvLjg6Y0baGsyP8PWuvoGMijeyCTjf3TyXW5GhMM5VA70dT4INQg3GzDn3GqTfoH53FdkDwZHUngrZX7S1tBw4IfahzuyYYcjV5AYcJXdw/KuC6uRoHz+zNsz5rkbpNfA4gvn/v0WZSl2jHa4CMNsIVZxL1Ar4ycrw4K224isMdYX1xYfsV6Yvz3dOLuJKoyTNcz2kCidEZj/tvNzpMTEOree0Gxyw== colab\n"
          ]
        }
      ]
    },
    {
      "cell_type": "code",
      "source": [],
      "metadata": {
        "colab": {
          "base_uri": "https://localhost:8080/"
        },
        "id": "t_SEJVRsOpmi",
        "outputId": "125a285b-64d5-4ba3-e291-ef113556ddf3"
      },
      "execution_count": null,
      "outputs": [
        {
          "output_type": "stream",
          "name": "stdout",
          "text": [
            "ssh: connect to host 0.0.0.1 port 22: Connection timed out\r\n"
          ]
        }
      ]
    },
    {
      "cell_type": "code",
      "execution_count": null,
      "metadata": {
        "id": "JxgKPUBtVrHQ",
        "colab": {
          "base_uri": "https://localhost:8080/",
          "height": 174,
          "referenced_widgets": [
            "d34b17a4c4bc40faa7c44998e8b12c8a",
            "d82b0a422ba549ae8398e145730ef82c",
            "2aad1ff39f4845dfa33bc13cfca291a4",
            "4cc4ba3d5feb4452b591ae7b8d901656",
            "13bae650d7eb4a5699083045c0f07cdd",
            "d94a0340959c4c20b7506293e1df6bf7",
            "65e8fb32b3e84e9cb92e9d6b4df0e440",
            "709e4e77c4f044c88ec9be5ac9d89538",
            "977370e4d0a74aa7a83187a2c99393b6",
            "d2e26378febc484f918343dfcf593c75",
            "df85c59a7b0d4c94a72f022e29c264b7",
            "246b862b8eef44f4842dc9d8b2f13b69",
            "d4fda7d8ee5946d5bd32021a37186a88",
            "4f524f24c7f6427191a8503a2109acb5",
            "4c725916faae47b98cf0c75f8f01e060",
            "f5686895866f4ac79f9a05a5c8a60104",
            "1adf5376e06143a289d39c8014e32b8f",
            "d445f3d416864f70a75be82acef90656",
            "4d4f01d9fa2145138966163ec070a473",
            "dd86b5c5585d4927b0ee03344b1d3cef",
            "0c2660d295574fe4b9ed7a2e9e72b8dc",
            "89556dfd0d00433684c7ded2b776e5f8",
            "4a1cb5c1eeb148d28178f2c3498a40ac",
            "32a1403df3424d79a7547646a1e08b4d",
            "67c4b1f0c4a54d6daa0086bb9fc5dcf0",
            "fa0f5dcacfd049aea91180cae432ff4b",
            "94616f6870fc4ede955ca8ead9252bc4",
            "6bd5cef8aecf4ccfa8e0d06f5ecc5893",
            "76fee792e7804e8c84e7a9528355e4d5",
            "d411ad9d066d48b3a3f462d6d94a5593",
            "1d8e39608bde46d692c08044a38c75f5",
            "bf055279ee444fb5a96c8701e286d2c2",
            "c6382c24cfcb48b7be72d408197eaca0",
            "fff09691ab1f453da76fe082a038ed6d",
            "873c291f68204580aeab805468054bc0",
            "1c622242b25243f7b33c24d272f42e3f",
            "510031479bca41e98c476e5cd61c5f86",
            "a16db10bc74e4baa88435f144f9b6c4b",
            "123d4389afbf4f60804d46a840f5e31e",
            "7b4a542dd8024e9a9f427272b6fec073",
            "f11aa73ddcec4931b97d123f50130b10",
            "7a66b3beff7740dabb6e424b4d0cf725",
            "42e9d944db6748a7980e1f64fe41550f",
            "8c9c9072159645ecb1acd30c66078757",
            "b9074031106841a2bcaad5b5e7538ecb",
            "dd321001278c4b3792a5b185f2656839",
            "2f9f1c3287224b938ee68c8a2e3c4ed3",
            "fd9baf6e5ff54ba3b92bda9e5dfbbb45",
            "380e73c00d474ffa9e048aae3ad96542",
            "e86427f5bb1e4141b97d196f99d7a4ea",
            "71d0485dafe04722a486f333505098d2",
            "0eda0a5d546544509548cfa266e6b9ad",
            "43088b4b91a74094adcfe2f7d8e3efb1",
            "b9f7ae2b8e964b4fa049e8be380ee03f",
            "dbd5c16a6397440b97eaed8012c7311f"
          ]
        },
        "outputId": "7b9f53a3-97b0-4409-bcbe-d20be3bbd5e9"
      },
      "outputs": [
        {
          "output_type": "stream",
          "name": "stderr",
          "text": [
            "WARNING:absl:Variant folder /root/tensorflow_datasets/cats_vs_dogs/4.0.1 has no dataset_info.json\n"
          ]
        },
        {
          "output_type": "stream",
          "name": "stdout",
          "text": [
            "Downloading and preparing dataset Unknown size (download: Unknown size, generated: Unknown size, total: Unknown size) to /root/tensorflow_datasets/cats_vs_dogs/4.0.1...\n"
          ]
        },
        {
          "output_type": "display_data",
          "data": {
            "text/plain": [
              "Dl Completed...: 0 url [00:00, ? url/s]"
            ],
            "application/vnd.jupyter.widget-view+json": {
              "version_major": 2,
              "version_minor": 0,
              "model_id": "d34b17a4c4bc40faa7c44998e8b12c8a"
            }
          },
          "metadata": {}
        },
        {
          "output_type": "display_data",
          "data": {
            "text/plain": [
              "Dl Size...: 0 MiB [00:00, ? MiB/s]"
            ],
            "application/vnd.jupyter.widget-view+json": {
              "version_major": 2,
              "version_minor": 0,
              "model_id": "246b862b8eef44f4842dc9d8b2f13b69"
            }
          },
          "metadata": {}
        },
        {
          "output_type": "display_data",
          "data": {
            "text/plain": [
              "Generating splits...:   0%|          | 0/1 [00:00<?, ? splits/s]"
            ],
            "application/vnd.jupyter.widget-view+json": {
              "version_major": 2,
              "version_minor": 0,
              "model_id": "4a1cb5c1eeb148d28178f2c3498a40ac"
            }
          },
          "metadata": {}
        },
        {
          "output_type": "display_data",
          "data": {
            "text/plain": [
              "Generating train examples...: 0 examples [00:00, ? examples/s]"
            ],
            "application/vnd.jupyter.widget-view+json": {
              "version_major": 2,
              "version_minor": 0,
              "model_id": "fff09691ab1f453da76fe082a038ed6d"
            }
          },
          "metadata": {}
        },
        {
          "output_type": "stream",
          "name": "stderr",
          "text": [
            "WARNING:absl:1738 images were corrupted and were skipped\n"
          ]
        },
        {
          "output_type": "display_data",
          "data": {
            "text/plain": [
              "Shuffling /root/tensorflow_datasets/cats_vs_dogs/incomplete.Y5LK9R_4.0.1/cats_vs_dogs-train.tfrecord*...:   0%…"
            ],
            "application/vnd.jupyter.widget-view+json": {
              "version_major": 2,
              "version_minor": 0,
              "model_id": "b9074031106841a2bcaad5b5e7538ecb"
            }
          },
          "metadata": {}
        },
        {
          "output_type": "stream",
          "name": "stdout",
          "text": [
            "Dataset cats_vs_dogs downloaded and prepared to /root/tensorflow_datasets/cats_vs_dogs/4.0.1. Subsequent calls will reuse this data.\n"
          ]
        }
      ],
      "source": [
        "#charger dataset\n",
        "def preprocess(example):\n",
        "    image = example['image']\n",
        "    image = tf.image.resize(image, [96, 96])  # Redimensionne à 64x64\n",
        "    image = tf.cast(image, tf.float32) / 127.5 - 1.0  # Normalise les pixels entre [-1, 1]\n",
        "    return image\n",
        "\n",
        "# Chargement du dataset COCO\n",
        "dataset = tfds.load(\"cats_vs_dogs\", split=\"train[:50%]\", shuffle_files=True)\n",
        "#regroupe en batchs de 48 images\n",
        "train_data = dataset.map(preprocess).take(1000).batch(48).prefetch(tf.data.AUTOTUNE)\n"
      ]
    },
    {
      "cell_type": "code",
      "execution_count": null,
      "metadata": {
        "id": "Z226AcJwVrKA"
      },
      "outputs": [],
      "source": [
        "BATCH_SIZE = 48\n",
        "WATERMARK_LENGTH = 30\n",
        "#Génère pour chaque image un tatouage binaire aléatoire (0 ou 1), converti en float.\n",
        "# Lors de l'entraînement\n",
        "for images in train_data:\n",
        "  #tensor 48,64,64,3\n",
        "    batch_size = tf.shape(images)[0]\n",
        "    #print(\"batch size\")\n",
        "    #print (batch_size)\n",
        "    # Générer un watermark de taille [batch_size, WATERMARK_LENGTH]\n",
        "    #maxval et minval valeurs possibles = {0, 1}.\n",
        "    watermark = tf.random.uniform([batch_size, WATERMARK_LENGTH], minval=0, maxval=2, dtype=tf.int32)\n",
        "    #convertir en float\n",
        "    watermark = tf.cast(watermark, tf.float32)\n"
      ]
    },
    {
      "cell_type": "code",
      "execution_count": null,
      "metadata": {
        "id": "uMuViCcpVrMt"
      },
      "outputs": [],
      "source": [
        "\n",
        "\n",
        "import tensorflow as tf\n",
        "from tensorflow.keras import layers\n",
        "\n",
        "# Générateur = Encoder (intègre watermark dans image)\n",
        "class Encoder(tf.keras.Model):\n",
        "    def __init__(self, image_channels=3, watermark_length=30):\n",
        "        super().__init__()\n",
        "        self.watermark_length = watermark_length\n",
        "\n",
        "        self.conv_blocks = tf.keras.Sequential([\n",
        "            layers.Conv2D(96, 3, padding='same'), layers.BatchNormalization(), layers.ReLU(),\n",
        "            layers.Conv2D(96, 3, padding='same'), layers.BatchNormalization(), layers.ReLU(),\n",
        "            layers.Conv2D(96, 3, padding='same'), layers.BatchNormalization(), layers.ReLU(),\n",
        "            layers.Conv2D(96, 3, padding='same'), layers.BatchNormalization(), layers.ReLU(),\n",
        "        ])\n",
        "#fusion creation de tenseur\n",
        "        self.merge = layers.Conv2D(96, 3, padding='same', activation='relu')\n",
        "        #applique 3 filtre image channels 64+3+30 ------> 3\n",
        "        self.final_conv = layers.Conv2D(image_channels, 1)\n",
        "#pour appeler encoder\n",
        "    def call(self, image, watermark):\n",
        "        batch_size, h, w, _ = tf.unstack(tf.shape(image))\n",
        "        #resdimension watermarking\n",
        "        wm = tf.reshape(watermark, (batch_size, 1, 1, self.watermark_length))\n",
        "        #repeter watermarking achaque pixel d'image\n",
        "        wm = tf.tile(wm, [1, h, w, 1])\n",
        "        features = self.conv_blocks(image)\n",
        "        x = tf.concat([features, image, wm], axis=-1)\n",
        "        x = self.merge(x)\n",
        "        return self.final_conv(x)\n"
      ]
    },
    {
      "cell_type": "code",
      "execution_count": null,
      "metadata": {
        "id": "It_sR83gVrPs"
      },
      "outputs": [],
      "source": [
        "class Decoder(tf.keras.Model):\n",
        "    def __init__(self, watermark_length=30):\n",
        "        super().__init__()\n",
        "        self.model = tf.keras.Sequential([\n",
        "            layers.Conv2D(64, 3, padding='same', activation='relu'),\n",
        "            layers.BatchNormalization(),\n",
        "            layers.MaxPooling2D(),  # (128 → 64)\n",
        "\n",
        "            layers.Conv2D(64, 3, padding='same', activation='relu'),\n",
        "            layers.BatchNormalization(),\n",
        "            layers.MaxPooling2D(),  # (64 → 32)\n",
        "\n",
        "            layers.Conv2D(128, 3, padding='same', activation='relu'),\n",
        "            layers.BatchNormalization(),\n",
        "            layers.MaxPooling2D(),  # (32 → 16)\n",
        "\n",
        "            layers.Conv2D(256, 3, padding='same', activation='relu'),\n",
        "            layers.BatchNormalization(),\n",
        "            layers.MaxPooling2D(),  # (16 → 8)\n",
        "\n",
        "            layers.GlobalAveragePooling2D(),  # (8x8x256 → 256)\n",
        "\n",
        "            layers.Dense(512, activation='relu'),\n",
        "            layers.Dropout(0.3),\n",
        "            layers.Dense(watermark_length, activation='sigmoid')\n",
        "        ])\n",
        "\n",
        "    def call(self, x):\n",
        "        return self.model(x)\n"
      ]
    },
    {
      "cell_type": "code",
      "execution_count": null,
      "metadata": {
        "id": "xu-TggT0VrSe"
      },
      "outputs": [],
      "source": [
        "class Discriminator(tf.keras.Model):\n",
        "    def __init__(self):\n",
        "        super().__init__()\n",
        "        self.model = tf.keras.Sequential([\n",
        "            layers.Conv2D(32, 4, strides=2, padding='same'),  # 64x64 → 32x32\n",
        "            layers.LeakyReLU(0.2),\n",
        "\n",
        "            layers.Conv2D(64, 4, strides=2, padding='same'),  # 32x32 → 16x16\n",
        "            layers.LeakyReLU(0.2),\n",
        "            layers.Dropout(0.3),  # remplace BatchNorm\n",
        "\n",
        "            layers.Conv2D(128, 4, strides=2, padding='same'),  # 16x16 → 8x8\n",
        "            layers.LeakyReLU(0.2),\n",
        "            layers.Dropout(0.3),\n",
        "\n",
        "            layers.GlobalAveragePooling2D(),\n",
        "            layers.Dense(1)  # output logit\n",
        "        ])\n",
        "\n",
        "    def call(self, x):\n",
        "        return self.model(x)\n"
      ]
    },
    {
      "cell_type": "code",
      "execution_count": null,
      "metadata": {
        "id": "vtDdLGmfVrVf",
        "colab": {
          "base_uri": "https://localhost:8080/"
        },
        "outputId": "089d2bcc-c994-4c3c-fd75-a3c37607eac8"
      },
      "outputs": [
        {
          "output_type": "stream",
          "name": "stdout",
          "text": [
            "encoded image shape: (4, 96, 96, 3)\n",
            "decoded watermark shape: (4, 30)\n",
            "discriminator score shape: (4, 1)\n"
          ]
        }
      ],
      "source": [
        "encoder = Encoder(image_channels=3, watermark_length=30)\n",
        "decoder = Decoder(watermark_length=30)\n",
        "discriminator = Discriminator()\n",
        "\n",
        "\n",
        "#Génère un batch de 4 images aléatoires\n",
        "\n",
        "sample_img = tf.random.uniform((4, 96, 96, 3))\n",
        "#Génère un batch de 4 watermarks binaire\n",
        "sample_wm = tf.random.uniform((4, 30), minval=0, maxval=2, dtype=tf.int32)\n",
        "\n",
        "encoded = encoder(sample_img, tf.cast(sample_wm, tf.float32))\n",
        "decoded = decoder(encoded)\n",
        "disc_score = discriminator(encoded)\n",
        "print(\"encoded image shape:\", encoded.shape)\n",
        "print(\"decoded watermark shape:\", decoded.shape)\n",
        "print(\"discriminator score shape:\", disc_score.shape)\n"
      ]
    },
    {
      "cell_type": "code",
      "execution_count": null,
      "metadata": {
        "id": "sp0EgqUGWXT1"
      },
      "outputs": [],
      "source": [
        "import numpy as np\n",
        "import matplotlib.pyplot as plt\n",
        "import tensorflow as tf\n",
        "nbre_vraie=[]\n",
        "def generate_images_from_outputs(image, watermark, watermarked, decoded, epoch=None):\n",
        "    # === Affichage des valeurs numériques ===\n",
        "    print(\"\\n--- Affichage des vecteurs ---\")\n",
        "    print(\"Watermark original (0/1)     :\", watermark.numpy())\n",
        "    print(\"Watermark décodé (0.0–1.0)   :\", decoded.numpy())\n",
        "\n",
        "\n",
        "    print(\"Watermark décodé (seuillé)   :\", tf.cast(decoded > 0.5, tf.float32).numpy())\n",
        "    print(\"Image tatouée (pixel [32,32]):\", watermarked[0, 32, 32, :].numpy())\n",
        "    s=tf.cast(decoded > 0.5, tf.float32).numpy()\n",
        "    correct_bits = tf.cast(tf.equal(watermark, s), tf.float32)\n",
        "    nombre_bits_corrects = tf.reduce_sum(correct_bits).numpy()\n",
        "    print(f\"Nombre de bits corrects : {nombre_bits_corrects}\")\n",
        "    nbre_vraie.append(nombre_bits_corrects)\n",
        "    plt.figure(figsize=(10, 10))\n",
        "    plt.plot(nbre_vraie, label='Loss decoded', color='blue')\n",
        "    plt.legend(); plt.title(\"Courbes de pertes \")\n",
        "    plt.xlabel('Epochs'); plt.ylabel('Loss'); plt.grid(True)\n",
        "    plt.show()\n",
        "\n",
        "\n",
        "\n",
        "    # === Affichage visuel ===\n",
        "    plt.figure(figsize=(10, 10))\n",
        "\n",
        "    # 1. Image originale\n",
        "    plt.subplot(1, 4, 1)\n",
        "    plt.imshow((tf.squeeze(image).numpy() + 1) / 2)\n",
        "    plt.title(\"Image originale\")\n",
        "    plt.axis(\"off\")\n",
        "\n",
        "    # 2. Watermark inséré\n",
        "    plt.subplot(1, 4, 2)\n",
        "    wm_np = tf.squeeze(watermark).numpy()\n",
        "    plt.imshow(wm_np[np.newaxis, :], cmap='gray', aspect='auto', vmin=0, vmax=1, interpolation='nearest')\n",
        "\n",
        "    plt.title(\"Watermark inséré\")\n",
        "    plt.axis(\"off\")\n",
        "\n",
        "    # 3. Image tatouée\n",
        "    plt.subplot(1, 4, 3)\n",
        "    plt.imshow((tf.squeeze(watermarked).numpy() + 1) / 2)\n",
        "    plt.title(\"Image tatouée\")\n",
        "    plt.axis(\"off\")\n",
        "\n",
        "    # 4. Watermark décodé\n",
        "    plt.subplot(1, 4, 4)\n",
        "    decoded_np = tf.squeeze(decoded).numpy()\n",
        "    plt.imshow(decoded_np[np.newaxis, :], cmap='gray', aspect='auto', vmin=0, vmax=1, interpolation='nearest')\n",
        "\n",
        "    plt.title(\"Watermark décodé\")\n",
        "    plt.axis(\"off\")\n",
        "\n",
        "    if epoch is not None:\n",
        "        plt.suptitle(f\"Affichage - Époque {epoch}\", fontsize=14)\n",
        "\n",
        "    plt.tight_layout()\n",
        "    plt.show()\n"
      ]
    },
    {
      "cell_type": "code",
      "execution_count": null,
      "metadata": {
        "id": "R_RGdZfrWXXR"
      },
      "outputs": [],
      "source": [
        "watermark_len = 30\n",
        "image_channels = 3\n",
        "\n",
        "\n",
        "optimizer_g = tf.keras.optimizers.Adam(learning_rate=1e-4)\n",
        "optimizer_d = tf.keras.optimizers.Adam(learning_rate=1e-4)\n",
        "optimizer_dec = tf.keras.optimizers.Adam(learning_rate=5e-4)\n"
      ]
    },
    {
      "cell_type": "code",
      "execution_count": null,
      "metadata": {
        "colab": {
          "base_uri": "https://localhost:8080/"
        },
        "id": "2lLVK8aMVrY8",
        "outputId": "7d8df47d-d0c9-4428-e818-947a9f00e8f3"
      },
      "outputs": [
        {
          "output_type": "stream",
          "name": "stdout",
          "text": [
            "Requirement already satisfied: tensorflow-hub in /usr/local/lib/python3.11/dist-packages (0.16.1)\n",
            "Requirement already satisfied: tensorflow-probability in /usr/local/lib/python3.11/dist-packages (0.25.0)\n",
            "Requirement already satisfied: numpy>=1.12.0 in /usr/local/lib/python3.11/dist-packages (from tensorflow-hub) (2.0.2)\n",
            "Requirement already satisfied: protobuf>=3.19.6 in /usr/local/lib/python3.11/dist-packages (from tensorflow-hub) (5.29.5)\n",
            "Requirement already satisfied: tf-keras>=2.14.1 in /usr/local/lib/python3.11/dist-packages (from tensorflow-hub) (2.18.0)\n",
            "Requirement already satisfied: absl-py in /usr/local/lib/python3.11/dist-packages (from tensorflow-probability) (1.4.0)\n",
            "Requirement already satisfied: six>=1.10.0 in /usr/local/lib/python3.11/dist-packages (from tensorflow-probability) (1.17.0)\n",
            "Requirement already satisfied: decorator in /usr/local/lib/python3.11/dist-packages (from tensorflow-probability) (4.4.2)\n",
            "Requirement already satisfied: cloudpickle>=1.3 in /usr/local/lib/python3.11/dist-packages (from tensorflow-probability) (3.1.1)\n",
            "Requirement already satisfied: gast>=0.3.2 in /usr/local/lib/python3.11/dist-packages (from tensorflow-probability) (0.6.0)\n",
            "Requirement already satisfied: dm-tree in /usr/local/lib/python3.11/dist-packages (from tensorflow-probability) (0.1.9)\n",
            "Requirement already satisfied: tensorflow<2.19,>=2.18 in /usr/local/lib/python3.11/dist-packages (from tf-keras>=2.14.1->tensorflow-hub) (2.18.0)\n",
            "Requirement already satisfied: attrs>=18.2.0 in /usr/local/lib/python3.11/dist-packages (from dm-tree->tensorflow-probability) (25.3.0)\n",
            "Requirement already satisfied: wrapt>=1.11.2 in /usr/local/lib/python3.11/dist-packages (from dm-tree->tensorflow-probability) (1.17.2)\n",
            "Requirement already satisfied: astunparse>=1.6.0 in /usr/local/lib/python3.11/dist-packages (from tensorflow<2.19,>=2.18->tf-keras>=2.14.1->tensorflow-hub) (1.6.3)\n",
            "Requirement already satisfied: flatbuffers>=24.3.25 in /usr/local/lib/python3.11/dist-packages (from tensorflow<2.19,>=2.18->tf-keras>=2.14.1->tensorflow-hub) (25.2.10)\n",
            "Requirement already satisfied: google-pasta>=0.1.1 in /usr/local/lib/python3.11/dist-packages (from tensorflow<2.19,>=2.18->tf-keras>=2.14.1->tensorflow-hub) (0.2.0)\n",
            "Requirement already satisfied: libclang>=13.0.0 in /usr/local/lib/python3.11/dist-packages (from tensorflow<2.19,>=2.18->tf-keras>=2.14.1->tensorflow-hub) (18.1.1)\n",
            "Requirement already satisfied: opt-einsum>=2.3.2 in /usr/local/lib/python3.11/dist-packages (from tensorflow<2.19,>=2.18->tf-keras>=2.14.1->tensorflow-hub) (3.4.0)\n",
            "Requirement already satisfied: packaging in /usr/local/lib/python3.11/dist-packages (from tensorflow<2.19,>=2.18->tf-keras>=2.14.1->tensorflow-hub) (24.2)\n",
            "Requirement already satisfied: requests<3,>=2.21.0 in /usr/local/lib/python3.11/dist-packages (from tensorflow<2.19,>=2.18->tf-keras>=2.14.1->tensorflow-hub) (2.32.3)\n",
            "Requirement already satisfied: setuptools in /usr/local/lib/python3.11/dist-packages (from tensorflow<2.19,>=2.18->tf-keras>=2.14.1->tensorflow-hub) (75.2.0)\n",
            "Requirement already satisfied: termcolor>=1.1.0 in /usr/local/lib/python3.11/dist-packages (from tensorflow<2.19,>=2.18->tf-keras>=2.14.1->tensorflow-hub) (3.1.0)\n",
            "Requirement already satisfied: typing-extensions>=3.6.6 in /usr/local/lib/python3.11/dist-packages (from tensorflow<2.19,>=2.18->tf-keras>=2.14.1->tensorflow-hub) (4.14.0)\n",
            "Requirement already satisfied: grpcio<2.0,>=1.24.3 in /usr/local/lib/python3.11/dist-packages (from tensorflow<2.19,>=2.18->tf-keras>=2.14.1->tensorflow-hub) (1.73.0)\n",
            "Requirement already satisfied: tensorboard<2.19,>=2.18 in /usr/local/lib/python3.11/dist-packages (from tensorflow<2.19,>=2.18->tf-keras>=2.14.1->tensorflow-hub) (2.18.0)\n",
            "Requirement already satisfied: keras>=3.5.0 in /usr/local/lib/python3.11/dist-packages (from tensorflow<2.19,>=2.18->tf-keras>=2.14.1->tensorflow-hub) (3.8.0)\n",
            "Requirement already satisfied: h5py>=3.11.0 in /usr/local/lib/python3.11/dist-packages (from tensorflow<2.19,>=2.18->tf-keras>=2.14.1->tensorflow-hub) (3.14.0)\n",
            "Requirement already satisfied: ml-dtypes<0.5.0,>=0.4.0 in /usr/local/lib/python3.11/dist-packages (from tensorflow<2.19,>=2.18->tf-keras>=2.14.1->tensorflow-hub) (0.4.1)\n",
            "Requirement already satisfied: tensorflow-io-gcs-filesystem>=0.23.1 in /usr/local/lib/python3.11/dist-packages (from tensorflow<2.19,>=2.18->tf-keras>=2.14.1->tensorflow-hub) (0.37.1)\n",
            "Requirement already satisfied: wheel<1.0,>=0.23.0 in /usr/local/lib/python3.11/dist-packages (from astunparse>=1.6.0->tensorflow<2.19,>=2.18->tf-keras>=2.14.1->tensorflow-hub) (0.45.1)\n",
            "Requirement already satisfied: rich in /usr/local/lib/python3.11/dist-packages (from keras>=3.5.0->tensorflow<2.19,>=2.18->tf-keras>=2.14.1->tensorflow-hub) (13.9.4)\n",
            "Requirement already satisfied: namex in /usr/local/lib/python3.11/dist-packages (from keras>=3.5.0->tensorflow<2.19,>=2.18->tf-keras>=2.14.1->tensorflow-hub) (0.1.0)\n",
            "Requirement already satisfied: optree in /usr/local/lib/python3.11/dist-packages (from keras>=3.5.0->tensorflow<2.19,>=2.18->tf-keras>=2.14.1->tensorflow-hub) (0.16.0)\n",
            "Requirement already satisfied: charset-normalizer<4,>=2 in /usr/local/lib/python3.11/dist-packages (from requests<3,>=2.21.0->tensorflow<2.19,>=2.18->tf-keras>=2.14.1->tensorflow-hub) (3.4.2)\n",
            "Requirement already satisfied: idna<4,>=2.5 in /usr/local/lib/python3.11/dist-packages (from requests<3,>=2.21.0->tensorflow<2.19,>=2.18->tf-keras>=2.14.1->tensorflow-hub) (3.10)\n",
            "Requirement already satisfied: urllib3<3,>=1.21.1 in /usr/local/lib/python3.11/dist-packages (from requests<3,>=2.21.0->tensorflow<2.19,>=2.18->tf-keras>=2.14.1->tensorflow-hub) (2.4.0)\n",
            "Requirement already satisfied: certifi>=2017.4.17 in /usr/local/lib/python3.11/dist-packages (from requests<3,>=2.21.0->tensorflow<2.19,>=2.18->tf-keras>=2.14.1->tensorflow-hub) (2025.6.15)\n",
            "Requirement already satisfied: markdown>=2.6.8 in /usr/local/lib/python3.11/dist-packages (from tensorboard<2.19,>=2.18->tensorflow<2.19,>=2.18->tf-keras>=2.14.1->tensorflow-hub) (3.8)\n",
            "Requirement already satisfied: tensorboard-data-server<0.8.0,>=0.7.0 in /usr/local/lib/python3.11/dist-packages (from tensorboard<2.19,>=2.18->tensorflow<2.19,>=2.18->tf-keras>=2.14.1->tensorflow-hub) (0.7.2)\n",
            "Requirement already satisfied: werkzeug>=1.0.1 in /usr/local/lib/python3.11/dist-packages (from tensorboard<2.19,>=2.18->tensorflow<2.19,>=2.18->tf-keras>=2.14.1->tensorflow-hub) (3.1.3)\n",
            "Requirement already satisfied: MarkupSafe>=2.1.1 in /usr/local/lib/python3.11/dist-packages (from werkzeug>=1.0.1->tensorboard<2.19,>=2.18->tensorflow<2.19,>=2.18->tf-keras>=2.14.1->tensorflow-hub) (3.0.2)\n",
            "Requirement already satisfied: markdown-it-py>=2.2.0 in /usr/local/lib/python3.11/dist-packages (from rich->keras>=3.5.0->tensorflow<2.19,>=2.18->tf-keras>=2.14.1->tensorflow-hub) (3.0.0)\n",
            "Requirement already satisfied: pygments<3.0.0,>=2.13.0 in /usr/local/lib/python3.11/dist-packages (from rich->keras>=3.5.0->tensorflow<2.19,>=2.18->tf-keras>=2.14.1->tensorflow-hub) (2.19.1)\n",
            "Requirement already satisfied: mdurl~=0.1 in /usr/local/lib/python3.11/dist-packages (from markdown-it-py>=2.2.0->rich->keras>=3.5.0->tensorflow<2.19,>=2.18->tf-keras>=2.14.1->tensorflow-hub) (0.1.2)\n"
          ]
        }
      ],
      "source": [
        "!pip install tensorflow-hub tensorflow-probability\n"
      ]
    },
    {
      "cell_type": "code",
      "execution_count": null,
      "metadata": {
        "id": "fZChKp3bdCPu"
      },
      "outputs": [],
      "source": []
    },
    {
      "cell_type": "code",
      "execution_count": null,
      "metadata": {
        "colab": {
          "base_uri": "https://localhost:8080/"
        },
        "id": "027S9BCLdCiw",
        "outputId": "c302371c-341f-4dcb-c6fc-4cc7e10f7cab"
      },
      "outputs": [
        {
          "output_type": "stream",
          "name": "stdout",
          "text": [
            "Mounted at /content/mydrive\n",
            "✅ État rechargé avec succès.\n",
            "✅ État sauvegardé avec succès.\n"
          ]
        }
      ],
      "source": []
    },
    {
      "cell_type": "code",
      "execution_count": null,
      "metadata": {
        "colab": {
          "base_uri": "https://localhost:8080/"
        },
        "id": "mRHcpU5_khjv",
        "outputId": "6dd94a84-3e32-482f-84c6-1979fe3f2758"
      },
      "outputs": [
        {
          "output_type": "stream",
          "name": "stdout",
          "text": [
            "Downloading data from https://storage.googleapis.com/tensorflow/keras-applications/vgg16/vgg16_weights_tf_dim_ordering_tf_kernels_notop.h5\n",
            "\u001b[1m58889256/58889256\u001b[0m \u001b[32m━━━━━━━━━━━━━━━━━━━━\u001b[0m\u001b[37m\u001b[0m \u001b[1m3s\u001b[0m 0us/step\n"
          ]
        }
      ],
      "source": [
        "from tensorflow.keras.applications import VGG16\n",
        "from tensorflow.keras.applications.vgg16 import preprocess_input\n",
        "from tensorflow.keras.models import Model\n",
        "# On utilise les couches de bas niveau jusqu’à 'block3_conv3'\n",
        "vgg = VGG16(include_top=False, weights='imagenet', input_shape=(None, None, 3))\n",
        "vgg.trainable = False  # Gèle les poids\n",
        "\n",
        "# On crée un sous-modèle VGG\n",
        "vgg_model = Model(inputs=vgg.input, outputs=vgg.get_layer('block3_conv3').output)\n",
        "import tensorflow as tf\n",
        "\n",
        "def perceptual_loss(y_true, y_pred):\n",
        "    # Remettre les pixels à l’échelle 0-255 pour VGG16\n",
        "    y_true = tf.clip_by_value(y_true * 255.0, 0.0, 255.0)\n",
        "    y_pred = tf.clip_by_value(y_pred * 255.0, 0.0, 255.0)\n",
        "\n",
        "    # Appliquer le pré-traitement spécifique VGG\n",
        "    y_true = preprocess_input(y_true)\n",
        "    y_pred = preprocess_input(y_pred)\n",
        "\n",
        "    # Extraire les features intermédiaires\n",
        "    true_features = vgg_model(y_true)\n",
        "    pred_features = vgg_model(y_pred)\n",
        "\n",
        "    # Calculer la perte de type MSE sur les features\n",
        "    return tf.reduce_mean(tf.square(true_features - pred_features))\n"
      ]
    },
    {
      "cell_type": "code",
      "execution_count": null,
      "metadata": {
        "colab": {
          "base_uri": "https://localhost:8080/"
        },
        "id": "kawL8l1gmZYx",
        "outputId": "4110663b-c088-493f-ba48-2020f66e04cf"
      },
      "outputs": [
        {
          "output_type": "stream",
          "name": "stdout",
          "text": [
            "Drive already mounted at /content/mydrive; to attempt to forcibly remount, call drive.mount(\"/content/mydrive\", force_remount=True).\n"
          ]
        }
      ],
      "source": [
        "\n"
      ]
    },
    {
      "cell_type": "code",
      "source": [
        "\n"
      ],
      "metadata": {
        "colab": {
          "base_uri": "https://localhost:8080/",
          "height": 110
        },
        "id": "JcB0gJ9qChCy",
        "outputId": "71d5a774-e5d8-4952-d1f2-21477805c6b9"
      },
      "execution_count": null,
      "outputs": [
        {
          "output_type": "error",
          "ename": "SyntaxError",
          "evalue": "invalid syntax (ipython-input-6-1634161356.py, line 1)",
          "traceback": [
            "\u001b[0;36m  File \u001b[0;32m\"/tmp/ipython-input-6-1634161356.py\"\u001b[0;36m, line \u001b[0;32m1\u001b[0m\n\u001b[0;31m    git clone https://github.com/ton_projet\u001b[0m\n\u001b[0m        ^\u001b[0m\n\u001b[0;31mSyntaxError\u001b[0m\u001b[0;31m:\u001b[0m invalid syntax\n"
          ]
        }
      ]
    },
    {
      "cell_type": "code",
      "source": [],
      "metadata": {
        "id": "0plx1xlIDTz6"
      },
      "execution_count": null,
      "outputs": []
    },
    {
      "cell_type": "code",
      "source": [
        "\n"
      ],
      "metadata": {
        "colab": {
          "base_uri": "https://localhost:8080/"
        },
        "id": "62yN7ygXBfze",
        "outputId": "db1f3f45-e65a-4877-89df-7237d8a3e72b"
      },
      "execution_count": null,
      "outputs": [
        {
          "output_type": "stream",
          "name": "stdout",
          "text": [
            "GPU disponible : []\n"
          ]
        }
      ]
    },
    {
      "cell_type": "code",
      "source": [],
      "metadata": {
        "id": "2sXAev5JB8y6"
      },
      "execution_count": null,
      "outputs": []
    },
    {
      "cell_type": "code",
      "source": [],
      "metadata": {
        "colab": {
          "base_uri": "https://localhost:8080/",
          "height": 110
        },
        "id": "sBMZVukfAB72",
        "outputId": "d9322689-a40d-49a1-dbae-2389a806a8e9"
      },
      "execution_count": null,
      "outputs": [
        {
          "output_type": "error",
          "ename": "SyntaxError",
          "evalue": "invalid syntax (ipython-input-2-3907759377.py, line 1)",
          "traceback": [
            "\u001b[0;36m  File \u001b[0;32m\"/tmp/ipython-input-2-3907759377.py\"\u001b[0;36m, line \u001b[0;32m1\u001b[0m\n\u001b[0;31m    sudo apt update\u001b[0m\n\u001b[0m         ^\u001b[0m\n\u001b[0;31mSyntaxError\u001b[0m\u001b[0;31m:\u001b[0m invalid syntax\n"
          ]
        }
      ]
    },
    {
      "cell_type": "code",
      "source": [],
      "metadata": {
        "id": "x7kpU-KEARdw"
      },
      "execution_count": null,
      "outputs": []
    },
    {
      "cell_type": "code",
      "execution_count": null,
      "metadata": {
        "id": "MNxBtNY9WePk"
      },
      "outputs": [],
      "source": [
        "import os, glob, pickle\n",
        "import numpy as np\n",
        "import matplotlib.pyplot as plt\n",
        "import tensorflow as tf\n",
        "from tensorflow.keras.losses import BinaryCrossentropy\n",
        "\n",
        "\n",
        "\n",
        "loss_g_list, loss_d_list, accuracy_d_list, bit_accuracy_list, loss_decoded = [], [], [], [], []\n",
        "\n",
        "# === Fonction de perte binaire\n",
        "bce = BinaryCrossentropy(from_logits=True)\n",
        "\n",
        "# === Entraînement principal\n",
        "for epoch in range(start_epoch, 400):\n",
        "    loss_g_epoch, loss_d_epoch, acc_d_epoch, bit_acc_epoch, loss_decoded_epoch = [], [], [], [], []\n",
        "\n",
        "    for images in train_data:\n",
        "        batch_size = tf.shape(images)[0]\n",
        "        watermark = tf.cast(tf.random.uniform([batch_size, WATERMARK_LENGTH], minval=0, maxval=2, dtype=tf.int32), tf.float32)\n",
        "\n",
        "        with tf.GradientTape(persistent=True) as tape:\n",
        "            watermarked = encoder(images, watermark)\n",
        "            decoded = decoder(watermarked)\n",
        "\n",
        "            loss_decode = bce(watermark, decoded)\n",
        "            loss_img = tf.reduce_mean(tf.square(images - watermarked))\n",
        "            loss_percep = perceptual_loss(images, watermarked)\n",
        "            loss_gan = bce(tf.ones_like(discriminator(watermarked)), discriminator(watermarked))\n",
        "\n",
        "            total_loss_g = 500 * loss_decode + 100 * loss_img + 5 * loss_gan\n",
        "\n",
        "            real_pred = discriminator(images)\n",
        "            fake_pred = discriminator(tf.stop_gradient(watermarked))\n",
        "\n",
        "            loss_d_real = bce(tf.ones_like(real_pred), real_pred)\n",
        "            loss_d_fake = bce(tf.zeros_like(fake_pred), fake_pred)\n",
        "            loss_d = loss_d_real + loss_d_fake\n",
        "\n",
        "        # Appliquer les gradients\n",
        "        grads_g = tape.gradient(total_loss_g, encoder.trainable_variables + decoder.trainable_variables)\n",
        "        optimizer_g.apply_gradients(zip(grads_g, encoder.trainable_variables + decoder.trainable_variables))\n",
        "\n",
        "        grads_d = tape.gradient(loss_d, discriminator.trainable_variables)\n",
        "        optimizer_d.apply_gradients(zip(grads_d, discriminator.trainable_variables))\n",
        "\n",
        "        with tf.GradientTape() as tape_dec:\n",
        "            decoded_train = decoder(watermarked)\n",
        "            loss_decode_dec = bce(watermark, decoded_train)\n",
        "        grads_dec = tape_dec.gradient(loss_decode_dec, decoder.trainable_variables)\n",
        "        optimizer_dec.apply_gradients(zip(grads_dec, decoder.trainable_variables))\n",
        "\n",
        "        # Évaluation\n",
        "        acc_real = tf.reduce_mean(tf.cast(real_pred > 0.5, tf.float32))\n",
        "        acc_fake = tf.reduce_mean(tf.cast(fake_pred < 0.5, tf.float32))\n",
        "        acc_d = 0.5 * (acc_real + acc_fake)\n",
        "\n",
        "        predicted_bits = tf.cast(decoded > 0.5, tf.float32)\n",
        "        bit_accuracy = tf.reduce_mean(tf.cast(predicted_bits == watermark, tf.float32))\n",
        "\n",
        "        # Stocker métriques\n",
        "        loss_g_epoch.append(total_loss_g.numpy())\n",
        "        loss_d_epoch.append(loss_d.numpy())\n",
        "        acc_d_epoch.append(acc_d.numpy())\n",
        "        bit_acc_epoch.append(bit_accuracy.numpy())\n",
        "        loss_decoded_epoch.append(loss_decode.numpy())\n",
        "\n",
        "    # Moyennes par époque\n",
        "    loss_g_list.append(np.mean(loss_g_epoch))\n",
        "    loss_d_list.append(np.mean(loss_d_epoch))\n",
        "    accuracy_d_list.append(np.mean(acc_d_epoch))\n",
        "    bit_accuracy_list.append(np.mean(bit_acc_epoch))\n",
        "    loss_decoded.append(np.mean(loss_decoded_epoch))\n",
        "\n",
        "    print(f\"✅ Epoch {epoch+1}/400\")\n",
        "    print(f\"   Discriminator real/fake : {tf.reduce_mean(real_pred):.4f} / {tf.reduce_mean(fake_pred):.4f}\")\n",
        "    print(f\"   G loss : {loss_g_list[-1]:.4f} | D loss : {loss_d_list[-1]:.4f}\")\n",
        "    print(f\"   Bit accuracy : {bit_accuracy_list[-1]:.4f} | Image loss : {loss_img.numpy():.4f}\")\n",
        "\n",
        "\n",
        "    results = {\n",
        "        'loss_g': loss_g_list,\n",
        "        'loss_d': loss_d_list,\n",
        "        'accuracy_d': accuracy_d_list,\n",
        "        'bit_accuracy': bit_accuracy_list,\n",
        "        'loss_decoded': loss_decoded\n",
        "    }\n",
        "\n",
        "    # === Affichage exemples\n",
        "    sample_image = images[0:1]\n",
        "    sample_wm = watermark[0:1]\n",
        "    sample_wm_img = watermarked[0:1]\n",
        "    sample_decoded = decoded[0:1]\n",
        "\n",
        "    generate_images_from_outputs(sample_image, sample_wm, sample_wm_img, sample_decoded, epoch=epoch+1)\n",
        "\n",
        "\n",
        "\n",
        "    # Par exemple pour afficher le premier élément du batch\n",
        "    sample_image = images[0:1]\n",
        "    sample_wm = watermark[0:1]\n",
        "    sample_wm_img = watermarked[0:1]\n",
        "    sample_decoded = decoded[0:1]\n",
        "\n",
        "    generate_images_from_outputs(sample_image, sample_wm, sample_wm_img, sample_decoded, epoch=epoch+1)\n",
        "    # Générer et afficher\n",
        "\n",
        "    # === Tracés intermédiaires ===\n",
        "    plt.figure(figsize=(12, 8))\n",
        "    plt.plot(loss_g_list, label='Loss Générateur', color='blue')\n",
        "    plt.legend(); plt.title(\"Courbes de pertes \")\n",
        "    plt.xlabel('Epochs'); plt.ylabel('Loss'); plt.grid(True)\n",
        "    plt.show()\n",
        "\n",
        "\n",
        "    plt.figure(figsize=(12, 8))\n",
        "    plt.plot(loss_d_list, label='Loss Discriminateur', color='red')\n",
        "    plt.legend(); plt.title(\"Courbes de pertes \")\n",
        "    plt.xlabel('Epochs'); plt.ylabel('Loss'); plt.grid(True)\n",
        "    plt.show()\n",
        "\n",
        "    plt.figure(figsize=(12, 4))\n",
        "    plt.plot(accuracy_d_list, label=\"Précision Discriminateur\", color='green')\n",
        "    plt.title(\"Précision du Discriminateur\"); plt.ylabel(\"Accuracy\"); plt.xlabel(\"Epoch\"); plt.grid(True); plt.legend()\n",
        "    plt.show()\n",
        "\n",
        "    # === Sauvegarde des poids\n"
      ]
    },
    {
      "cell_type": "code",
      "execution_count": null,
      "metadata": {
        "id": "aHr7N-LkWeS1"
      },
      "outputs": [],
      "source": []
    },
    {
      "cell_type": "code",
      "execution_count": null,
      "metadata": {
        "id": "2-YdXpbZWesS"
      },
      "outputs": [],
      "source": []
    }
  ],
  "metadata": {
    "colab": {
      "provenance": []
    },
    "kernelspec": {
      "display_name": "Python 3",
      "name": "python3"
    },
    "language_info": {
      "name": "python"
    },
    "widgets": {
      "application/vnd.jupyter.widget-state+json": {
        "d34b17a4c4bc40faa7c44998e8b12c8a": {
          "model_module": "@jupyter-widgets/controls",
          "model_name": "HBoxModel",
          "model_module_version": "1.5.0",
          "state": {
            "_dom_classes": [],
            "_model_module": "@jupyter-widgets/controls",
            "_model_module_version": "1.5.0",
            "_model_name": "HBoxModel",
            "_view_count": null,
            "_view_module": "@jupyter-widgets/controls",
            "_view_module_version": "1.5.0",
            "_view_name": "HBoxView",
            "box_style": "",
            "children": [
              "IPY_MODEL_d82b0a422ba549ae8398e145730ef82c",
              "IPY_MODEL_2aad1ff39f4845dfa33bc13cfca291a4",
              "IPY_MODEL_4cc4ba3d5feb4452b591ae7b8d901656"
            ],
            "layout": "IPY_MODEL_13bae650d7eb4a5699083045c0f07cdd"
          }
        },
        "d82b0a422ba549ae8398e145730ef82c": {
          "model_module": "@jupyter-widgets/controls",
          "model_name": "HTMLModel",
          "model_module_version": "1.5.0",
          "state": {
            "_dom_classes": [],
            "_model_module": "@jupyter-widgets/controls",
            "_model_module_version": "1.5.0",
            "_model_name": "HTMLModel",
            "_view_count": null,
            "_view_module": "@jupyter-widgets/controls",
            "_view_module_version": "1.5.0",
            "_view_name": "HTMLView",
            "description": "",
            "description_tooltip": null,
            "layout": "IPY_MODEL_d94a0340959c4c20b7506293e1df6bf7",
            "placeholder": "​",
            "style": "IPY_MODEL_65e8fb32b3e84e9cb92e9d6b4df0e440",
            "value": "Dl Completed...: 100%"
          }
        },
        "2aad1ff39f4845dfa33bc13cfca291a4": {
          "model_module": "@jupyter-widgets/controls",
          "model_name": "FloatProgressModel",
          "model_module_version": "1.5.0",
          "state": {
            "_dom_classes": [],
            "_model_module": "@jupyter-widgets/controls",
            "_model_module_version": "1.5.0",
            "_model_name": "FloatProgressModel",
            "_view_count": null,
            "_view_module": "@jupyter-widgets/controls",
            "_view_module_version": "1.5.0",
            "_view_name": "ProgressView",
            "bar_style": "success",
            "description": "",
            "description_tooltip": null,
            "layout": "IPY_MODEL_709e4e77c4f044c88ec9be5ac9d89538",
            "max": 1,
            "min": 0,
            "orientation": "horizontal",
            "style": "IPY_MODEL_977370e4d0a74aa7a83187a2c99393b6",
            "value": 1
          }
        },
        "4cc4ba3d5feb4452b591ae7b8d901656": {
          "model_module": "@jupyter-widgets/controls",
          "model_name": "HTMLModel",
          "model_module_version": "1.5.0",
          "state": {
            "_dom_classes": [],
            "_model_module": "@jupyter-widgets/controls",
            "_model_module_version": "1.5.0",
            "_model_name": "HTMLModel",
            "_view_count": null,
            "_view_module": "@jupyter-widgets/controls",
            "_view_module_version": "1.5.0",
            "_view_name": "HTMLView",
            "description": "",
            "description_tooltip": null,
            "layout": "IPY_MODEL_d2e26378febc484f918343dfcf593c75",
            "placeholder": "​",
            "style": "IPY_MODEL_df85c59a7b0d4c94a72f022e29c264b7",
            "value": " 1/1 [00:08&lt;00:00,  8.87s/ url]"
          }
        },
        "13bae650d7eb4a5699083045c0f07cdd": {
          "model_module": "@jupyter-widgets/base",
          "model_name": "LayoutModel",
          "model_module_version": "1.2.0",
          "state": {
            "_model_module": "@jupyter-widgets/base",
            "_model_module_version": "1.2.0",
            "_model_name": "LayoutModel",
            "_view_count": null,
            "_view_module": "@jupyter-widgets/base",
            "_view_module_version": "1.2.0",
            "_view_name": "LayoutView",
            "align_content": null,
            "align_items": null,
            "align_self": null,
            "border": null,
            "bottom": null,
            "display": null,
            "flex": null,
            "flex_flow": null,
            "grid_area": null,
            "grid_auto_columns": null,
            "grid_auto_flow": null,
            "grid_auto_rows": null,
            "grid_column": null,
            "grid_gap": null,
            "grid_row": null,
            "grid_template_areas": null,
            "grid_template_columns": null,
            "grid_template_rows": null,
            "height": null,
            "justify_content": null,
            "justify_items": null,
            "left": null,
            "margin": null,
            "max_height": null,
            "max_width": null,
            "min_height": null,
            "min_width": null,
            "object_fit": null,
            "object_position": null,
            "order": null,
            "overflow": null,
            "overflow_x": null,
            "overflow_y": null,
            "padding": null,
            "right": null,
            "top": null,
            "visibility": null,
            "width": null
          }
        },
        "d94a0340959c4c20b7506293e1df6bf7": {
          "model_module": "@jupyter-widgets/base",
          "model_name": "LayoutModel",
          "model_module_version": "1.2.0",
          "state": {
            "_model_module": "@jupyter-widgets/base",
            "_model_module_version": "1.2.0",
            "_model_name": "LayoutModel",
            "_view_count": null,
            "_view_module": "@jupyter-widgets/base",
            "_view_module_version": "1.2.0",
            "_view_name": "LayoutView",
            "align_content": null,
            "align_items": null,
            "align_self": null,
            "border": null,
            "bottom": null,
            "display": null,
            "flex": null,
            "flex_flow": null,
            "grid_area": null,
            "grid_auto_columns": null,
            "grid_auto_flow": null,
            "grid_auto_rows": null,
            "grid_column": null,
            "grid_gap": null,
            "grid_row": null,
            "grid_template_areas": null,
            "grid_template_columns": null,
            "grid_template_rows": null,
            "height": null,
            "justify_content": null,
            "justify_items": null,
            "left": null,
            "margin": null,
            "max_height": null,
            "max_width": null,
            "min_height": null,
            "min_width": null,
            "object_fit": null,
            "object_position": null,
            "order": null,
            "overflow": null,
            "overflow_x": null,
            "overflow_y": null,
            "padding": null,
            "right": null,
            "top": null,
            "visibility": null,
            "width": null
          }
        },
        "65e8fb32b3e84e9cb92e9d6b4df0e440": {
          "model_module": "@jupyter-widgets/controls",
          "model_name": "DescriptionStyleModel",
          "model_module_version": "1.5.0",
          "state": {
            "_model_module": "@jupyter-widgets/controls",
            "_model_module_version": "1.5.0",
            "_model_name": "DescriptionStyleModel",
            "_view_count": null,
            "_view_module": "@jupyter-widgets/base",
            "_view_module_version": "1.2.0",
            "_view_name": "StyleView",
            "description_width": ""
          }
        },
        "709e4e77c4f044c88ec9be5ac9d89538": {
          "model_module": "@jupyter-widgets/base",
          "model_name": "LayoutModel",
          "model_module_version": "1.2.0",
          "state": {
            "_model_module": "@jupyter-widgets/base",
            "_model_module_version": "1.2.0",
            "_model_name": "LayoutModel",
            "_view_count": null,
            "_view_module": "@jupyter-widgets/base",
            "_view_module_version": "1.2.0",
            "_view_name": "LayoutView",
            "align_content": null,
            "align_items": null,
            "align_self": null,
            "border": null,
            "bottom": null,
            "display": null,
            "flex": null,
            "flex_flow": null,
            "grid_area": null,
            "grid_auto_columns": null,
            "grid_auto_flow": null,
            "grid_auto_rows": null,
            "grid_column": null,
            "grid_gap": null,
            "grid_row": null,
            "grid_template_areas": null,
            "grid_template_columns": null,
            "grid_template_rows": null,
            "height": null,
            "justify_content": null,
            "justify_items": null,
            "left": null,
            "margin": null,
            "max_height": null,
            "max_width": null,
            "min_height": null,
            "min_width": null,
            "object_fit": null,
            "object_position": null,
            "order": null,
            "overflow": null,
            "overflow_x": null,
            "overflow_y": null,
            "padding": null,
            "right": null,
            "top": null,
            "visibility": null,
            "width": "20px"
          }
        },
        "977370e4d0a74aa7a83187a2c99393b6": {
          "model_module": "@jupyter-widgets/controls",
          "model_name": "ProgressStyleModel",
          "model_module_version": "1.5.0",
          "state": {
            "_model_module": "@jupyter-widgets/controls",
            "_model_module_version": "1.5.0",
            "_model_name": "ProgressStyleModel",
            "_view_count": null,
            "_view_module": "@jupyter-widgets/base",
            "_view_module_version": "1.2.0",
            "_view_name": "StyleView",
            "bar_color": null,
            "description_width": ""
          }
        },
        "d2e26378febc484f918343dfcf593c75": {
          "model_module": "@jupyter-widgets/base",
          "model_name": "LayoutModel",
          "model_module_version": "1.2.0",
          "state": {
            "_model_module": "@jupyter-widgets/base",
            "_model_module_version": "1.2.0",
            "_model_name": "LayoutModel",
            "_view_count": null,
            "_view_module": "@jupyter-widgets/base",
            "_view_module_version": "1.2.0",
            "_view_name": "LayoutView",
            "align_content": null,
            "align_items": null,
            "align_self": null,
            "border": null,
            "bottom": null,
            "display": null,
            "flex": null,
            "flex_flow": null,
            "grid_area": null,
            "grid_auto_columns": null,
            "grid_auto_flow": null,
            "grid_auto_rows": null,
            "grid_column": null,
            "grid_gap": null,
            "grid_row": null,
            "grid_template_areas": null,
            "grid_template_columns": null,
            "grid_template_rows": null,
            "height": null,
            "justify_content": null,
            "justify_items": null,
            "left": null,
            "margin": null,
            "max_height": null,
            "max_width": null,
            "min_height": null,
            "min_width": null,
            "object_fit": null,
            "object_position": null,
            "order": null,
            "overflow": null,
            "overflow_x": null,
            "overflow_y": null,
            "padding": null,
            "right": null,
            "top": null,
            "visibility": null,
            "width": null
          }
        },
        "df85c59a7b0d4c94a72f022e29c264b7": {
          "model_module": "@jupyter-widgets/controls",
          "model_name": "DescriptionStyleModel",
          "model_module_version": "1.5.0",
          "state": {
            "_model_module": "@jupyter-widgets/controls",
            "_model_module_version": "1.5.0",
            "_model_name": "DescriptionStyleModel",
            "_view_count": null,
            "_view_module": "@jupyter-widgets/base",
            "_view_module_version": "1.2.0",
            "_view_name": "StyleView",
            "description_width": ""
          }
        },
        "246b862b8eef44f4842dc9d8b2f13b69": {
          "model_module": "@jupyter-widgets/controls",
          "model_name": "HBoxModel",
          "model_module_version": "1.5.0",
          "state": {
            "_dom_classes": [],
            "_model_module": "@jupyter-widgets/controls",
            "_model_module_version": "1.5.0",
            "_model_name": "HBoxModel",
            "_view_count": null,
            "_view_module": "@jupyter-widgets/controls",
            "_view_module_version": "1.5.0",
            "_view_name": "HBoxView",
            "box_style": "",
            "children": [
              "IPY_MODEL_d4fda7d8ee5946d5bd32021a37186a88",
              "IPY_MODEL_4f524f24c7f6427191a8503a2109acb5",
              "IPY_MODEL_4c725916faae47b98cf0c75f8f01e060"
            ],
            "layout": "IPY_MODEL_f5686895866f4ac79f9a05a5c8a60104"
          }
        },
        "d4fda7d8ee5946d5bd32021a37186a88": {
          "model_module": "@jupyter-widgets/controls",
          "model_name": "HTMLModel",
          "model_module_version": "1.5.0",
          "state": {
            "_dom_classes": [],
            "_model_module": "@jupyter-widgets/controls",
            "_model_module_version": "1.5.0",
            "_model_name": "HTMLModel",
            "_view_count": null,
            "_view_module": "@jupyter-widgets/controls",
            "_view_module_version": "1.5.0",
            "_view_name": "HTMLView",
            "description": "",
            "description_tooltip": null,
            "layout": "IPY_MODEL_1adf5376e06143a289d39c8014e32b8f",
            "placeholder": "​",
            "style": "IPY_MODEL_d445f3d416864f70a75be82acef90656",
            "value": "Dl Size...: 100%"
          }
        },
        "4f524f24c7f6427191a8503a2109acb5": {
          "model_module": "@jupyter-widgets/controls",
          "model_name": "FloatProgressModel",
          "model_module_version": "1.5.0",
          "state": {
            "_dom_classes": [],
            "_model_module": "@jupyter-widgets/controls",
            "_model_module_version": "1.5.0",
            "_model_name": "FloatProgressModel",
            "_view_count": null,
            "_view_module": "@jupyter-widgets/controls",
            "_view_module_version": "1.5.0",
            "_view_name": "ProgressView",
            "bar_style": "success",
            "description": "",
            "description_tooltip": null,
            "layout": "IPY_MODEL_4d4f01d9fa2145138966163ec070a473",
            "max": 1,
            "min": 0,
            "orientation": "horizontal",
            "style": "IPY_MODEL_dd86b5c5585d4927b0ee03344b1d3cef",
            "value": 1
          }
        },
        "4c725916faae47b98cf0c75f8f01e060": {
          "model_module": "@jupyter-widgets/controls",
          "model_name": "HTMLModel",
          "model_module_version": "1.5.0",
          "state": {
            "_dom_classes": [],
            "_model_module": "@jupyter-widgets/controls",
            "_model_module_version": "1.5.0",
            "_model_name": "HTMLModel",
            "_view_count": null,
            "_view_module": "@jupyter-widgets/controls",
            "_view_module_version": "1.5.0",
            "_view_name": "HTMLView",
            "description": "",
            "description_tooltip": null,
            "layout": "IPY_MODEL_0c2660d295574fe4b9ed7a2e9e72b8dc",
            "placeholder": "​",
            "style": "IPY_MODEL_89556dfd0d00433684c7ded2b776e5f8",
            "value": " 786/786 [00:08&lt;00:00, 81.13 MiB/s]"
          }
        },
        "f5686895866f4ac79f9a05a5c8a60104": {
          "model_module": "@jupyter-widgets/base",
          "model_name": "LayoutModel",
          "model_module_version": "1.2.0",
          "state": {
            "_model_module": "@jupyter-widgets/base",
            "_model_module_version": "1.2.0",
            "_model_name": "LayoutModel",
            "_view_count": null,
            "_view_module": "@jupyter-widgets/base",
            "_view_module_version": "1.2.0",
            "_view_name": "LayoutView",
            "align_content": null,
            "align_items": null,
            "align_self": null,
            "border": null,
            "bottom": null,
            "display": null,
            "flex": null,
            "flex_flow": null,
            "grid_area": null,
            "grid_auto_columns": null,
            "grid_auto_flow": null,
            "grid_auto_rows": null,
            "grid_column": null,
            "grid_gap": null,
            "grid_row": null,
            "grid_template_areas": null,
            "grid_template_columns": null,
            "grid_template_rows": null,
            "height": null,
            "justify_content": null,
            "justify_items": null,
            "left": null,
            "margin": null,
            "max_height": null,
            "max_width": null,
            "min_height": null,
            "min_width": null,
            "object_fit": null,
            "object_position": null,
            "order": null,
            "overflow": null,
            "overflow_x": null,
            "overflow_y": null,
            "padding": null,
            "right": null,
            "top": null,
            "visibility": null,
            "width": null
          }
        },
        "1adf5376e06143a289d39c8014e32b8f": {
          "model_module": "@jupyter-widgets/base",
          "model_name": "LayoutModel",
          "model_module_version": "1.2.0",
          "state": {
            "_model_module": "@jupyter-widgets/base",
            "_model_module_version": "1.2.0",
            "_model_name": "LayoutModel",
            "_view_count": null,
            "_view_module": "@jupyter-widgets/base",
            "_view_module_version": "1.2.0",
            "_view_name": "LayoutView",
            "align_content": null,
            "align_items": null,
            "align_self": null,
            "border": null,
            "bottom": null,
            "display": null,
            "flex": null,
            "flex_flow": null,
            "grid_area": null,
            "grid_auto_columns": null,
            "grid_auto_flow": null,
            "grid_auto_rows": null,
            "grid_column": null,
            "grid_gap": null,
            "grid_row": null,
            "grid_template_areas": null,
            "grid_template_columns": null,
            "grid_template_rows": null,
            "height": null,
            "justify_content": null,
            "justify_items": null,
            "left": null,
            "margin": null,
            "max_height": null,
            "max_width": null,
            "min_height": null,
            "min_width": null,
            "object_fit": null,
            "object_position": null,
            "order": null,
            "overflow": null,
            "overflow_x": null,
            "overflow_y": null,
            "padding": null,
            "right": null,
            "top": null,
            "visibility": null,
            "width": null
          }
        },
        "d445f3d416864f70a75be82acef90656": {
          "model_module": "@jupyter-widgets/controls",
          "model_name": "DescriptionStyleModel",
          "model_module_version": "1.5.0",
          "state": {
            "_model_module": "@jupyter-widgets/controls",
            "_model_module_version": "1.5.0",
            "_model_name": "DescriptionStyleModel",
            "_view_count": null,
            "_view_module": "@jupyter-widgets/base",
            "_view_module_version": "1.2.0",
            "_view_name": "StyleView",
            "description_width": ""
          }
        },
        "4d4f01d9fa2145138966163ec070a473": {
          "model_module": "@jupyter-widgets/base",
          "model_name": "LayoutModel",
          "model_module_version": "1.2.0",
          "state": {
            "_model_module": "@jupyter-widgets/base",
            "_model_module_version": "1.2.0",
            "_model_name": "LayoutModel",
            "_view_count": null,
            "_view_module": "@jupyter-widgets/base",
            "_view_module_version": "1.2.0",
            "_view_name": "LayoutView",
            "align_content": null,
            "align_items": null,
            "align_self": null,
            "border": null,
            "bottom": null,
            "display": null,
            "flex": null,
            "flex_flow": null,
            "grid_area": null,
            "grid_auto_columns": null,
            "grid_auto_flow": null,
            "grid_auto_rows": null,
            "grid_column": null,
            "grid_gap": null,
            "grid_row": null,
            "grid_template_areas": null,
            "grid_template_columns": null,
            "grid_template_rows": null,
            "height": null,
            "justify_content": null,
            "justify_items": null,
            "left": null,
            "margin": null,
            "max_height": null,
            "max_width": null,
            "min_height": null,
            "min_width": null,
            "object_fit": null,
            "object_position": null,
            "order": null,
            "overflow": null,
            "overflow_x": null,
            "overflow_y": null,
            "padding": null,
            "right": null,
            "top": null,
            "visibility": null,
            "width": "20px"
          }
        },
        "dd86b5c5585d4927b0ee03344b1d3cef": {
          "model_module": "@jupyter-widgets/controls",
          "model_name": "ProgressStyleModel",
          "model_module_version": "1.5.0",
          "state": {
            "_model_module": "@jupyter-widgets/controls",
            "_model_module_version": "1.5.0",
            "_model_name": "ProgressStyleModel",
            "_view_count": null,
            "_view_module": "@jupyter-widgets/base",
            "_view_module_version": "1.2.0",
            "_view_name": "StyleView",
            "bar_color": null,
            "description_width": ""
          }
        },
        "0c2660d295574fe4b9ed7a2e9e72b8dc": {
          "model_module": "@jupyter-widgets/base",
          "model_name": "LayoutModel",
          "model_module_version": "1.2.0",
          "state": {
            "_model_module": "@jupyter-widgets/base",
            "_model_module_version": "1.2.0",
            "_model_name": "LayoutModel",
            "_view_count": null,
            "_view_module": "@jupyter-widgets/base",
            "_view_module_version": "1.2.0",
            "_view_name": "LayoutView",
            "align_content": null,
            "align_items": null,
            "align_self": null,
            "border": null,
            "bottom": null,
            "display": null,
            "flex": null,
            "flex_flow": null,
            "grid_area": null,
            "grid_auto_columns": null,
            "grid_auto_flow": null,
            "grid_auto_rows": null,
            "grid_column": null,
            "grid_gap": null,
            "grid_row": null,
            "grid_template_areas": null,
            "grid_template_columns": null,
            "grid_template_rows": null,
            "height": null,
            "justify_content": null,
            "justify_items": null,
            "left": null,
            "margin": null,
            "max_height": null,
            "max_width": null,
            "min_height": null,
            "min_width": null,
            "object_fit": null,
            "object_position": null,
            "order": null,
            "overflow": null,
            "overflow_x": null,
            "overflow_y": null,
            "padding": null,
            "right": null,
            "top": null,
            "visibility": null,
            "width": null
          }
        },
        "89556dfd0d00433684c7ded2b776e5f8": {
          "model_module": "@jupyter-widgets/controls",
          "model_name": "DescriptionStyleModel",
          "model_module_version": "1.5.0",
          "state": {
            "_model_module": "@jupyter-widgets/controls",
            "_model_module_version": "1.5.0",
            "_model_name": "DescriptionStyleModel",
            "_view_count": null,
            "_view_module": "@jupyter-widgets/base",
            "_view_module_version": "1.2.0",
            "_view_name": "StyleView",
            "description_width": ""
          }
        },
        "4a1cb5c1eeb148d28178f2c3498a40ac": {
          "model_module": "@jupyter-widgets/controls",
          "model_name": "HBoxModel",
          "model_module_version": "1.5.0",
          "state": {
            "_dom_classes": [],
            "_model_module": "@jupyter-widgets/controls",
            "_model_module_version": "1.5.0",
            "_model_name": "HBoxModel",
            "_view_count": null,
            "_view_module": "@jupyter-widgets/controls",
            "_view_module_version": "1.5.0",
            "_view_name": "HBoxView",
            "box_style": "",
            "children": [
              "IPY_MODEL_32a1403df3424d79a7547646a1e08b4d",
              "IPY_MODEL_67c4b1f0c4a54d6daa0086bb9fc5dcf0",
              "IPY_MODEL_fa0f5dcacfd049aea91180cae432ff4b"
            ],
            "layout": "IPY_MODEL_94616f6870fc4ede955ca8ead9252bc4"
          }
        },
        "32a1403df3424d79a7547646a1e08b4d": {
          "model_module": "@jupyter-widgets/controls",
          "model_name": "HTMLModel",
          "model_module_version": "1.5.0",
          "state": {
            "_dom_classes": [],
            "_model_module": "@jupyter-widgets/controls",
            "_model_module_version": "1.5.0",
            "_model_name": "HTMLModel",
            "_view_count": null,
            "_view_module": "@jupyter-widgets/controls",
            "_view_module_version": "1.5.0",
            "_view_name": "HTMLView",
            "description": "",
            "description_tooltip": null,
            "layout": "IPY_MODEL_6bd5cef8aecf4ccfa8e0d06f5ecc5893",
            "placeholder": "​",
            "style": "IPY_MODEL_76fee792e7804e8c84e7a9528355e4d5",
            "value": "Generating splits...: 100%"
          }
        },
        "67c4b1f0c4a54d6daa0086bb9fc5dcf0": {
          "model_module": "@jupyter-widgets/controls",
          "model_name": "FloatProgressModel",
          "model_module_version": "1.5.0",
          "state": {
            "_dom_classes": [],
            "_model_module": "@jupyter-widgets/controls",
            "_model_module_version": "1.5.0",
            "_model_name": "FloatProgressModel",
            "_view_count": null,
            "_view_module": "@jupyter-widgets/controls",
            "_view_module_version": "1.5.0",
            "_view_name": "ProgressView",
            "bar_style": "",
            "description": "",
            "description_tooltip": null,
            "layout": "IPY_MODEL_d411ad9d066d48b3a3f462d6d94a5593",
            "max": 1,
            "min": 0,
            "orientation": "horizontal",
            "style": "IPY_MODEL_1d8e39608bde46d692c08044a38c75f5",
            "value": 1
          }
        },
        "fa0f5dcacfd049aea91180cae432ff4b": {
          "model_module": "@jupyter-widgets/controls",
          "model_name": "HTMLModel",
          "model_module_version": "1.5.0",
          "state": {
            "_dom_classes": [],
            "_model_module": "@jupyter-widgets/controls",
            "_model_module_version": "1.5.0",
            "_model_name": "HTMLModel",
            "_view_count": null,
            "_view_module": "@jupyter-widgets/controls",
            "_view_module_version": "1.5.0",
            "_view_name": "HTMLView",
            "description": "",
            "description_tooltip": null,
            "layout": "IPY_MODEL_bf055279ee444fb5a96c8701e286d2c2",
            "placeholder": "​",
            "style": "IPY_MODEL_c6382c24cfcb48b7be72d408197eaca0",
            "value": " 1/1 [01:18&lt;00:00, 78.08s/ splits]"
          }
        },
        "94616f6870fc4ede955ca8ead9252bc4": {
          "model_module": "@jupyter-widgets/base",
          "model_name": "LayoutModel",
          "model_module_version": "1.2.0",
          "state": {
            "_model_module": "@jupyter-widgets/base",
            "_model_module_version": "1.2.0",
            "_model_name": "LayoutModel",
            "_view_count": null,
            "_view_module": "@jupyter-widgets/base",
            "_view_module_version": "1.2.0",
            "_view_name": "LayoutView",
            "align_content": null,
            "align_items": null,
            "align_self": null,
            "border": null,
            "bottom": null,
            "display": null,
            "flex": null,
            "flex_flow": null,
            "grid_area": null,
            "grid_auto_columns": null,
            "grid_auto_flow": null,
            "grid_auto_rows": null,
            "grid_column": null,
            "grid_gap": null,
            "grid_row": null,
            "grid_template_areas": null,
            "grid_template_columns": null,
            "grid_template_rows": null,
            "height": null,
            "justify_content": null,
            "justify_items": null,
            "left": null,
            "margin": null,
            "max_height": null,
            "max_width": null,
            "min_height": null,
            "min_width": null,
            "object_fit": null,
            "object_position": null,
            "order": null,
            "overflow": null,
            "overflow_x": null,
            "overflow_y": null,
            "padding": null,
            "right": null,
            "top": null,
            "visibility": "hidden",
            "width": null
          }
        },
        "6bd5cef8aecf4ccfa8e0d06f5ecc5893": {
          "model_module": "@jupyter-widgets/base",
          "model_name": "LayoutModel",
          "model_module_version": "1.2.0",
          "state": {
            "_model_module": "@jupyter-widgets/base",
            "_model_module_version": "1.2.0",
            "_model_name": "LayoutModel",
            "_view_count": null,
            "_view_module": "@jupyter-widgets/base",
            "_view_module_version": "1.2.0",
            "_view_name": "LayoutView",
            "align_content": null,
            "align_items": null,
            "align_self": null,
            "border": null,
            "bottom": null,
            "display": null,
            "flex": null,
            "flex_flow": null,
            "grid_area": null,
            "grid_auto_columns": null,
            "grid_auto_flow": null,
            "grid_auto_rows": null,
            "grid_column": null,
            "grid_gap": null,
            "grid_row": null,
            "grid_template_areas": null,
            "grid_template_columns": null,
            "grid_template_rows": null,
            "height": null,
            "justify_content": null,
            "justify_items": null,
            "left": null,
            "margin": null,
            "max_height": null,
            "max_width": null,
            "min_height": null,
            "min_width": null,
            "object_fit": null,
            "object_position": null,
            "order": null,
            "overflow": null,
            "overflow_x": null,
            "overflow_y": null,
            "padding": null,
            "right": null,
            "top": null,
            "visibility": null,
            "width": null
          }
        },
        "76fee792e7804e8c84e7a9528355e4d5": {
          "model_module": "@jupyter-widgets/controls",
          "model_name": "DescriptionStyleModel",
          "model_module_version": "1.5.0",
          "state": {
            "_model_module": "@jupyter-widgets/controls",
            "_model_module_version": "1.5.0",
            "_model_name": "DescriptionStyleModel",
            "_view_count": null,
            "_view_module": "@jupyter-widgets/base",
            "_view_module_version": "1.2.0",
            "_view_name": "StyleView",
            "description_width": ""
          }
        },
        "d411ad9d066d48b3a3f462d6d94a5593": {
          "model_module": "@jupyter-widgets/base",
          "model_name": "LayoutModel",
          "model_module_version": "1.2.0",
          "state": {
            "_model_module": "@jupyter-widgets/base",
            "_model_module_version": "1.2.0",
            "_model_name": "LayoutModel",
            "_view_count": null,
            "_view_module": "@jupyter-widgets/base",
            "_view_module_version": "1.2.0",
            "_view_name": "LayoutView",
            "align_content": null,
            "align_items": null,
            "align_self": null,
            "border": null,
            "bottom": null,
            "display": null,
            "flex": null,
            "flex_flow": null,
            "grid_area": null,
            "grid_auto_columns": null,
            "grid_auto_flow": null,
            "grid_auto_rows": null,
            "grid_column": null,
            "grid_gap": null,
            "grid_row": null,
            "grid_template_areas": null,
            "grid_template_columns": null,
            "grid_template_rows": null,
            "height": null,
            "justify_content": null,
            "justify_items": null,
            "left": null,
            "margin": null,
            "max_height": null,
            "max_width": null,
            "min_height": null,
            "min_width": null,
            "object_fit": null,
            "object_position": null,
            "order": null,
            "overflow": null,
            "overflow_x": null,
            "overflow_y": null,
            "padding": null,
            "right": null,
            "top": null,
            "visibility": null,
            "width": null
          }
        },
        "1d8e39608bde46d692c08044a38c75f5": {
          "model_module": "@jupyter-widgets/controls",
          "model_name": "ProgressStyleModel",
          "model_module_version": "1.5.0",
          "state": {
            "_model_module": "@jupyter-widgets/controls",
            "_model_module_version": "1.5.0",
            "_model_name": "ProgressStyleModel",
            "_view_count": null,
            "_view_module": "@jupyter-widgets/base",
            "_view_module_version": "1.2.0",
            "_view_name": "StyleView",
            "bar_color": null,
            "description_width": ""
          }
        },
        "bf055279ee444fb5a96c8701e286d2c2": {
          "model_module": "@jupyter-widgets/base",
          "model_name": "LayoutModel",
          "model_module_version": "1.2.0",
          "state": {
            "_model_module": "@jupyter-widgets/base",
            "_model_module_version": "1.2.0",
            "_model_name": "LayoutModel",
            "_view_count": null,
            "_view_module": "@jupyter-widgets/base",
            "_view_module_version": "1.2.0",
            "_view_name": "LayoutView",
            "align_content": null,
            "align_items": null,
            "align_self": null,
            "border": null,
            "bottom": null,
            "display": null,
            "flex": null,
            "flex_flow": null,
            "grid_area": null,
            "grid_auto_columns": null,
            "grid_auto_flow": null,
            "grid_auto_rows": null,
            "grid_column": null,
            "grid_gap": null,
            "grid_row": null,
            "grid_template_areas": null,
            "grid_template_columns": null,
            "grid_template_rows": null,
            "height": null,
            "justify_content": null,
            "justify_items": null,
            "left": null,
            "margin": null,
            "max_height": null,
            "max_width": null,
            "min_height": null,
            "min_width": null,
            "object_fit": null,
            "object_position": null,
            "order": null,
            "overflow": null,
            "overflow_x": null,
            "overflow_y": null,
            "padding": null,
            "right": null,
            "top": null,
            "visibility": null,
            "width": null
          }
        },
        "c6382c24cfcb48b7be72d408197eaca0": {
          "model_module": "@jupyter-widgets/controls",
          "model_name": "DescriptionStyleModel",
          "model_module_version": "1.5.0",
          "state": {
            "_model_module": "@jupyter-widgets/controls",
            "_model_module_version": "1.5.0",
            "_model_name": "DescriptionStyleModel",
            "_view_count": null,
            "_view_module": "@jupyter-widgets/base",
            "_view_module_version": "1.2.0",
            "_view_name": "StyleView",
            "description_width": ""
          }
        },
        "fff09691ab1f453da76fe082a038ed6d": {
          "model_module": "@jupyter-widgets/controls",
          "model_name": "HBoxModel",
          "model_module_version": "1.5.0",
          "state": {
            "_dom_classes": [],
            "_model_module": "@jupyter-widgets/controls",
            "_model_module_version": "1.5.0",
            "_model_name": "HBoxModel",
            "_view_count": null,
            "_view_module": "@jupyter-widgets/controls",
            "_view_module_version": "1.5.0",
            "_view_name": "HBoxView",
            "box_style": "",
            "children": [
              "IPY_MODEL_873c291f68204580aeab805468054bc0",
              "IPY_MODEL_1c622242b25243f7b33c24d272f42e3f",
              "IPY_MODEL_510031479bca41e98c476e5cd61c5f86"
            ],
            "layout": "IPY_MODEL_a16db10bc74e4baa88435f144f9b6c4b"
          }
        },
        "873c291f68204580aeab805468054bc0": {
          "model_module": "@jupyter-widgets/controls",
          "model_name": "HTMLModel",
          "model_module_version": "1.5.0",
          "state": {
            "_dom_classes": [],
            "_model_module": "@jupyter-widgets/controls",
            "_model_module_version": "1.5.0",
            "_model_name": "HTMLModel",
            "_view_count": null,
            "_view_module": "@jupyter-widgets/controls",
            "_view_module_version": "1.5.0",
            "_view_name": "HTMLView",
            "description": "",
            "description_tooltip": null,
            "layout": "IPY_MODEL_123d4389afbf4f60804d46a840f5e31e",
            "placeholder": "​",
            "style": "IPY_MODEL_7b4a542dd8024e9a9f427272b6fec073",
            "value": "Generating train examples...: "
          }
        },
        "1c622242b25243f7b33c24d272f42e3f": {
          "model_module": "@jupyter-widgets/controls",
          "model_name": "FloatProgressModel",
          "model_module_version": "1.5.0",
          "state": {
            "_dom_classes": [],
            "_model_module": "@jupyter-widgets/controls",
            "_model_module_version": "1.5.0",
            "_model_name": "FloatProgressModel",
            "_view_count": null,
            "_view_module": "@jupyter-widgets/controls",
            "_view_module_version": "1.5.0",
            "_view_name": "ProgressView",
            "bar_style": "info",
            "description": "",
            "description_tooltip": null,
            "layout": "IPY_MODEL_f11aa73ddcec4931b97d123f50130b10",
            "max": 1,
            "min": 0,
            "orientation": "horizontal",
            "style": "IPY_MODEL_7a66b3beff7740dabb6e424b4d0cf725",
            "value": 1
          }
        },
        "510031479bca41e98c476e5cd61c5f86": {
          "model_module": "@jupyter-widgets/controls",
          "model_name": "HTMLModel",
          "model_module_version": "1.5.0",
          "state": {
            "_dom_classes": [],
            "_model_module": "@jupyter-widgets/controls",
            "_model_module_version": "1.5.0",
            "_model_name": "HTMLModel",
            "_view_count": null,
            "_view_module": "@jupyter-widgets/controls",
            "_view_module_version": "1.5.0",
            "_view_name": "HTMLView",
            "description": "",
            "description_tooltip": null,
            "layout": "IPY_MODEL_42e9d944db6748a7980e1f64fe41550f",
            "placeholder": "​",
            "style": "IPY_MODEL_8c9c9072159645ecb1acd30c66078757",
            "value": " 23197/? [01:12&lt;00:00, 186.84 examples/s]"
          }
        },
        "a16db10bc74e4baa88435f144f9b6c4b": {
          "model_module": "@jupyter-widgets/base",
          "model_name": "LayoutModel",
          "model_module_version": "1.2.0",
          "state": {
            "_model_module": "@jupyter-widgets/base",
            "_model_module_version": "1.2.0",
            "_model_name": "LayoutModel",
            "_view_count": null,
            "_view_module": "@jupyter-widgets/base",
            "_view_module_version": "1.2.0",
            "_view_name": "LayoutView",
            "align_content": null,
            "align_items": null,
            "align_self": null,
            "border": null,
            "bottom": null,
            "display": null,
            "flex": null,
            "flex_flow": null,
            "grid_area": null,
            "grid_auto_columns": null,
            "grid_auto_flow": null,
            "grid_auto_rows": null,
            "grid_column": null,
            "grid_gap": null,
            "grid_row": null,
            "grid_template_areas": null,
            "grid_template_columns": null,
            "grid_template_rows": null,
            "height": null,
            "justify_content": null,
            "justify_items": null,
            "left": null,
            "margin": null,
            "max_height": null,
            "max_width": null,
            "min_height": null,
            "min_width": null,
            "object_fit": null,
            "object_position": null,
            "order": null,
            "overflow": null,
            "overflow_x": null,
            "overflow_y": null,
            "padding": null,
            "right": null,
            "top": null,
            "visibility": "hidden",
            "width": null
          }
        },
        "123d4389afbf4f60804d46a840f5e31e": {
          "model_module": "@jupyter-widgets/base",
          "model_name": "LayoutModel",
          "model_module_version": "1.2.0",
          "state": {
            "_model_module": "@jupyter-widgets/base",
            "_model_module_version": "1.2.0",
            "_model_name": "LayoutModel",
            "_view_count": null,
            "_view_module": "@jupyter-widgets/base",
            "_view_module_version": "1.2.0",
            "_view_name": "LayoutView",
            "align_content": null,
            "align_items": null,
            "align_self": null,
            "border": null,
            "bottom": null,
            "display": null,
            "flex": null,
            "flex_flow": null,
            "grid_area": null,
            "grid_auto_columns": null,
            "grid_auto_flow": null,
            "grid_auto_rows": null,
            "grid_column": null,
            "grid_gap": null,
            "grid_row": null,
            "grid_template_areas": null,
            "grid_template_columns": null,
            "grid_template_rows": null,
            "height": null,
            "justify_content": null,
            "justify_items": null,
            "left": null,
            "margin": null,
            "max_height": null,
            "max_width": null,
            "min_height": null,
            "min_width": null,
            "object_fit": null,
            "object_position": null,
            "order": null,
            "overflow": null,
            "overflow_x": null,
            "overflow_y": null,
            "padding": null,
            "right": null,
            "top": null,
            "visibility": null,
            "width": null
          }
        },
        "7b4a542dd8024e9a9f427272b6fec073": {
          "model_module": "@jupyter-widgets/controls",
          "model_name": "DescriptionStyleModel",
          "model_module_version": "1.5.0",
          "state": {
            "_model_module": "@jupyter-widgets/controls",
            "_model_module_version": "1.5.0",
            "_model_name": "DescriptionStyleModel",
            "_view_count": null,
            "_view_module": "@jupyter-widgets/base",
            "_view_module_version": "1.2.0",
            "_view_name": "StyleView",
            "description_width": ""
          }
        },
        "f11aa73ddcec4931b97d123f50130b10": {
          "model_module": "@jupyter-widgets/base",
          "model_name": "LayoutModel",
          "model_module_version": "1.2.0",
          "state": {
            "_model_module": "@jupyter-widgets/base",
            "_model_module_version": "1.2.0",
            "_model_name": "LayoutModel",
            "_view_count": null,
            "_view_module": "@jupyter-widgets/base",
            "_view_module_version": "1.2.0",
            "_view_name": "LayoutView",
            "align_content": null,
            "align_items": null,
            "align_self": null,
            "border": null,
            "bottom": null,
            "display": null,
            "flex": null,
            "flex_flow": null,
            "grid_area": null,
            "grid_auto_columns": null,
            "grid_auto_flow": null,
            "grid_auto_rows": null,
            "grid_column": null,
            "grid_gap": null,
            "grid_row": null,
            "grid_template_areas": null,
            "grid_template_columns": null,
            "grid_template_rows": null,
            "height": null,
            "justify_content": null,
            "justify_items": null,
            "left": null,
            "margin": null,
            "max_height": null,
            "max_width": null,
            "min_height": null,
            "min_width": null,
            "object_fit": null,
            "object_position": null,
            "order": null,
            "overflow": null,
            "overflow_x": null,
            "overflow_y": null,
            "padding": null,
            "right": null,
            "top": null,
            "visibility": null,
            "width": "20px"
          }
        },
        "7a66b3beff7740dabb6e424b4d0cf725": {
          "model_module": "@jupyter-widgets/controls",
          "model_name": "ProgressStyleModel",
          "model_module_version": "1.5.0",
          "state": {
            "_model_module": "@jupyter-widgets/controls",
            "_model_module_version": "1.5.0",
            "_model_name": "ProgressStyleModel",
            "_view_count": null,
            "_view_module": "@jupyter-widgets/base",
            "_view_module_version": "1.2.0",
            "_view_name": "StyleView",
            "bar_color": null,
            "description_width": ""
          }
        },
        "42e9d944db6748a7980e1f64fe41550f": {
          "model_module": "@jupyter-widgets/base",
          "model_name": "LayoutModel",
          "model_module_version": "1.2.0",
          "state": {
            "_model_module": "@jupyter-widgets/base",
            "_model_module_version": "1.2.0",
            "_model_name": "LayoutModel",
            "_view_count": null,
            "_view_module": "@jupyter-widgets/base",
            "_view_module_version": "1.2.0",
            "_view_name": "LayoutView",
            "align_content": null,
            "align_items": null,
            "align_self": null,
            "border": null,
            "bottom": null,
            "display": null,
            "flex": null,
            "flex_flow": null,
            "grid_area": null,
            "grid_auto_columns": null,
            "grid_auto_flow": null,
            "grid_auto_rows": null,
            "grid_column": null,
            "grid_gap": null,
            "grid_row": null,
            "grid_template_areas": null,
            "grid_template_columns": null,
            "grid_template_rows": null,
            "height": null,
            "justify_content": null,
            "justify_items": null,
            "left": null,
            "margin": null,
            "max_height": null,
            "max_width": null,
            "min_height": null,
            "min_width": null,
            "object_fit": null,
            "object_position": null,
            "order": null,
            "overflow": null,
            "overflow_x": null,
            "overflow_y": null,
            "padding": null,
            "right": null,
            "top": null,
            "visibility": null,
            "width": null
          }
        },
        "8c9c9072159645ecb1acd30c66078757": {
          "model_module": "@jupyter-widgets/controls",
          "model_name": "DescriptionStyleModel",
          "model_module_version": "1.5.0",
          "state": {
            "_model_module": "@jupyter-widgets/controls",
            "_model_module_version": "1.5.0",
            "_model_name": "DescriptionStyleModel",
            "_view_count": null,
            "_view_module": "@jupyter-widgets/base",
            "_view_module_version": "1.2.0",
            "_view_name": "StyleView",
            "description_width": ""
          }
        },
        "b9074031106841a2bcaad5b5e7538ecb": {
          "model_module": "@jupyter-widgets/controls",
          "model_name": "HBoxModel",
          "model_module_version": "1.5.0",
          "state": {
            "_dom_classes": [],
            "_model_module": "@jupyter-widgets/controls",
            "_model_module_version": "1.5.0",
            "_model_name": "HBoxModel",
            "_view_count": null,
            "_view_module": "@jupyter-widgets/controls",
            "_view_module_version": "1.5.0",
            "_view_name": "HBoxView",
            "box_style": "",
            "children": [
              "IPY_MODEL_dd321001278c4b3792a5b185f2656839",
              "IPY_MODEL_2f9f1c3287224b938ee68c8a2e3c4ed3",
              "IPY_MODEL_fd9baf6e5ff54ba3b92bda9e5dfbbb45"
            ],
            "layout": "IPY_MODEL_380e73c00d474ffa9e048aae3ad96542"
          }
        },
        "dd321001278c4b3792a5b185f2656839": {
          "model_module": "@jupyter-widgets/controls",
          "model_name": "HTMLModel",
          "model_module_version": "1.5.0",
          "state": {
            "_dom_classes": [],
            "_model_module": "@jupyter-widgets/controls",
            "_model_module_version": "1.5.0",
            "_model_name": "HTMLModel",
            "_view_count": null,
            "_view_module": "@jupyter-widgets/controls",
            "_view_module_version": "1.5.0",
            "_view_name": "HTMLView",
            "description": "",
            "description_tooltip": null,
            "layout": "IPY_MODEL_e86427f5bb1e4141b97d196f99d7a4ea",
            "placeholder": "​",
            "style": "IPY_MODEL_71d0485dafe04722a486f333505098d2",
            "value": "Shuffling /root/tensorflow_datasets/cats_vs_dogs/incomplete.Y5LK9R_4.0.1/cats_vs_dogs-train.tfrecord*...:  76%"
          }
        },
        "2f9f1c3287224b938ee68c8a2e3c4ed3": {
          "model_module": "@jupyter-widgets/controls",
          "model_name": "FloatProgressModel",
          "model_module_version": "1.5.0",
          "state": {
            "_dom_classes": [],
            "_model_module": "@jupyter-widgets/controls",
            "_model_module_version": "1.5.0",
            "_model_name": "FloatProgressModel",
            "_view_count": null,
            "_view_module": "@jupyter-widgets/controls",
            "_view_module_version": "1.5.0",
            "_view_name": "ProgressView",
            "bar_style": "",
            "description": "",
            "description_tooltip": null,
            "layout": "IPY_MODEL_0eda0a5d546544509548cfa266e6b9ad",
            "max": 23262,
            "min": 0,
            "orientation": "horizontal",
            "style": "IPY_MODEL_43088b4b91a74094adcfe2f7d8e3efb1",
            "value": 23262
          }
        },
        "fd9baf6e5ff54ba3b92bda9e5dfbbb45": {
          "model_module": "@jupyter-widgets/controls",
          "model_name": "HTMLModel",
          "model_module_version": "1.5.0",
          "state": {
            "_dom_classes": [],
            "_model_module": "@jupyter-widgets/controls",
            "_model_module_version": "1.5.0",
            "_model_name": "HTMLModel",
            "_view_count": null,
            "_view_module": "@jupyter-widgets/controls",
            "_view_module_version": "1.5.0",
            "_view_name": "HTMLView",
            "description": "",
            "description_tooltip": null,
            "layout": "IPY_MODEL_b9f7ae2b8e964b4fa049e8be380ee03f",
            "placeholder": "​",
            "style": "IPY_MODEL_dbd5c16a6397440b97eaed8012c7311f",
            "value": " 17681/23262 [00:04&lt;00:01, 3109.09 examples/s]"
          }
        },
        "380e73c00d474ffa9e048aae3ad96542": {
          "model_module": "@jupyter-widgets/base",
          "model_name": "LayoutModel",
          "model_module_version": "1.2.0",
          "state": {
            "_model_module": "@jupyter-widgets/base",
            "_model_module_version": "1.2.0",
            "_model_name": "LayoutModel",
            "_view_count": null,
            "_view_module": "@jupyter-widgets/base",
            "_view_module_version": "1.2.0",
            "_view_name": "LayoutView",
            "align_content": null,
            "align_items": null,
            "align_self": null,
            "border": null,
            "bottom": null,
            "display": null,
            "flex": null,
            "flex_flow": null,
            "grid_area": null,
            "grid_auto_columns": null,
            "grid_auto_flow": null,
            "grid_auto_rows": null,
            "grid_column": null,
            "grid_gap": null,
            "grid_row": null,
            "grid_template_areas": null,
            "grid_template_columns": null,
            "grid_template_rows": null,
            "height": null,
            "justify_content": null,
            "justify_items": null,
            "left": null,
            "margin": null,
            "max_height": null,
            "max_width": null,
            "min_height": null,
            "min_width": null,
            "object_fit": null,
            "object_position": null,
            "order": null,
            "overflow": null,
            "overflow_x": null,
            "overflow_y": null,
            "padding": null,
            "right": null,
            "top": null,
            "visibility": "hidden",
            "width": null
          }
        },
        "e86427f5bb1e4141b97d196f99d7a4ea": {
          "model_module": "@jupyter-widgets/base",
          "model_name": "LayoutModel",
          "model_module_version": "1.2.0",
          "state": {
            "_model_module": "@jupyter-widgets/base",
            "_model_module_version": "1.2.0",
            "_model_name": "LayoutModel",
            "_view_count": null,
            "_view_module": "@jupyter-widgets/base",
            "_view_module_version": "1.2.0",
            "_view_name": "LayoutView",
            "align_content": null,
            "align_items": null,
            "align_self": null,
            "border": null,
            "bottom": null,
            "display": null,
            "flex": null,
            "flex_flow": null,
            "grid_area": null,
            "grid_auto_columns": null,
            "grid_auto_flow": null,
            "grid_auto_rows": null,
            "grid_column": null,
            "grid_gap": null,
            "grid_row": null,
            "grid_template_areas": null,
            "grid_template_columns": null,
            "grid_template_rows": null,
            "height": null,
            "justify_content": null,
            "justify_items": null,
            "left": null,
            "margin": null,
            "max_height": null,
            "max_width": null,
            "min_height": null,
            "min_width": null,
            "object_fit": null,
            "object_position": null,
            "order": null,
            "overflow": null,
            "overflow_x": null,
            "overflow_y": null,
            "padding": null,
            "right": null,
            "top": null,
            "visibility": null,
            "width": null
          }
        },
        "71d0485dafe04722a486f333505098d2": {
          "model_module": "@jupyter-widgets/controls",
          "model_name": "DescriptionStyleModel",
          "model_module_version": "1.5.0",
          "state": {
            "_model_module": "@jupyter-widgets/controls",
            "_model_module_version": "1.5.0",
            "_model_name": "DescriptionStyleModel",
            "_view_count": null,
            "_view_module": "@jupyter-widgets/base",
            "_view_module_version": "1.2.0",
            "_view_name": "StyleView",
            "description_width": ""
          }
        },
        "0eda0a5d546544509548cfa266e6b9ad": {
          "model_module": "@jupyter-widgets/base",
          "model_name": "LayoutModel",
          "model_module_version": "1.2.0",
          "state": {
            "_model_module": "@jupyter-widgets/base",
            "_model_module_version": "1.2.0",
            "_model_name": "LayoutModel",
            "_view_count": null,
            "_view_module": "@jupyter-widgets/base",
            "_view_module_version": "1.2.0",
            "_view_name": "LayoutView",
            "align_content": null,
            "align_items": null,
            "align_self": null,
            "border": null,
            "bottom": null,
            "display": null,
            "flex": null,
            "flex_flow": null,
            "grid_area": null,
            "grid_auto_columns": null,
            "grid_auto_flow": null,
            "grid_auto_rows": null,
            "grid_column": null,
            "grid_gap": null,
            "grid_row": null,
            "grid_template_areas": null,
            "grid_template_columns": null,
            "grid_template_rows": null,
            "height": null,
            "justify_content": null,
            "justify_items": null,
            "left": null,
            "margin": null,
            "max_height": null,
            "max_width": null,
            "min_height": null,
            "min_width": null,
            "object_fit": null,
            "object_position": null,
            "order": null,
            "overflow": null,
            "overflow_x": null,
            "overflow_y": null,
            "padding": null,
            "right": null,
            "top": null,
            "visibility": null,
            "width": null
          }
        },
        "43088b4b91a74094adcfe2f7d8e3efb1": {
          "model_module": "@jupyter-widgets/controls",
          "model_name": "ProgressStyleModel",
          "model_module_version": "1.5.0",
          "state": {
            "_model_module": "@jupyter-widgets/controls",
            "_model_module_version": "1.5.0",
            "_model_name": "ProgressStyleModel",
            "_view_count": null,
            "_view_module": "@jupyter-widgets/base",
            "_view_module_version": "1.2.0",
            "_view_name": "StyleView",
            "bar_color": null,
            "description_width": ""
          }
        },
        "b9f7ae2b8e964b4fa049e8be380ee03f": {
          "model_module": "@jupyter-widgets/base",
          "model_name": "LayoutModel",
          "model_module_version": "1.2.0",
          "state": {
            "_model_module": "@jupyter-widgets/base",
            "_model_module_version": "1.2.0",
            "_model_name": "LayoutModel",
            "_view_count": null,
            "_view_module": "@jupyter-widgets/base",
            "_view_module_version": "1.2.0",
            "_view_name": "LayoutView",
            "align_content": null,
            "align_items": null,
            "align_self": null,
            "border": null,
            "bottom": null,
            "display": null,
            "flex": null,
            "flex_flow": null,
            "grid_area": null,
            "grid_auto_columns": null,
            "grid_auto_flow": null,
            "grid_auto_rows": null,
            "grid_column": null,
            "grid_gap": null,
            "grid_row": null,
            "grid_template_areas": null,
            "grid_template_columns": null,
            "grid_template_rows": null,
            "height": null,
            "justify_content": null,
            "justify_items": null,
            "left": null,
            "margin": null,
            "max_height": null,
            "max_width": null,
            "min_height": null,
            "min_width": null,
            "object_fit": null,
            "object_position": null,
            "order": null,
            "overflow": null,
            "overflow_x": null,
            "overflow_y": null,
            "padding": null,
            "right": null,
            "top": null,
            "visibility": null,
            "width": null
          }
        },
        "dbd5c16a6397440b97eaed8012c7311f": {
          "model_module": "@jupyter-widgets/controls",
          "model_name": "DescriptionStyleModel",
          "model_module_version": "1.5.0",
          "state": {
            "_model_module": "@jupyter-widgets/controls",
            "_model_module_version": "1.5.0",
            "_model_name": "DescriptionStyleModel",
            "_view_count": null,
            "_view_module": "@jupyter-widgets/base",
            "_view_module_version": "1.2.0",
            "_view_name": "StyleView",
            "description_width": ""
          }
        }
      }
    }
  },
  "nbformat": 4,
  "nbformat_minor": 0
}